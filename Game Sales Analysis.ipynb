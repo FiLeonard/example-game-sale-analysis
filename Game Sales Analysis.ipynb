{
 "cells": [
  {
   "cell_type": "markdown",
   "metadata": {
    "_cell_guid": "263f812f-1e9b-ddb0-dcab-a8de5aa7ccd7"
   },
   "source": [
    "**Releases and Sales**\n",
    "----------------------\n",
    "An investigation of this dataset"
   ]
  },
  {
   "cell_type": "code",
   "execution_count": 3,
   "metadata": {
    "_cell_guid": "20c4f0e2-9bf1-e39b-8cec-b7bf22912882"
   },
   "outputs": [],
   "source": [
    "library(ggplot2)\n",
    "library(readr)\n",
    "library(lattice)\n",
    "library(scales)\n",
    "library(reshape)\n",
    "library(gridExtra)\n",
    "library(corrgram)\n",
    "library(randomForest)\n",
    "library(tidyr)\n",
    "library(caret)"
   ]
  },
  {
   "cell_type": "code",
   "execution_count": 4,
   "metadata": {
    "_cell_guid": "8391f432-9500-2dc7-6d9f-3ef223c7d4ca",
    "collapsed": true
   },
   "outputs": [],
   "source": [
    "sales = read.csv(\"../input/Video_Games_Sales_as_at_22_Dec_2016.csv\", header=T, na.strings=c(\"\",\" \", \"NA\", \"N/A\"))"
   ]
  },
  {
   "cell_type": "markdown",
   "metadata": {
    "_cell_guid": "ccf53f19-7414-9cb9-1402-7a2717d15a86"
   },
   "source": [
    "Data Overview\n",
    "-------------"
   ]
  },
  {
   "cell_type": "code",
   "execution_count": 5,
   "metadata": {
    "_cell_guid": "47fd4d21-1694-9bb2-4e35-d12b07638f9b"
   },
   "outputs": [
    {
     "name": "stdout",
     "output_type": "stream",
     "text": [
      "'data.frame':\t16719 obs. of  16 variables:\n",
      " $ Name           : Factor w/ 11562 levels \"'98 Koshien\",..: 11058 9405 5572 11060 7416 9770 6692 11056 6695 2619 ...\n",
      " $ Platform       : Factor w/ 31 levels \"2600\",\"3DO\",\"3DS\",..: 26 12 26 26 6 6 5 26 26 12 ...\n",
      " $ Year_of_Release: int  2006 1985 2008 2009 1996 1989 2006 2006 2009 1984 ...\n",
      " $ Genre          : Factor w/ 12 levels \"Action\",\"Adventure\",..: 11 5 7 11 8 6 5 4 5 9 ...\n",
      " $ Publisher      : Factor w/ 581 levels \"10TACLE Studios\",..: 370 370 370 370 370 370 370 370 370 370 ...\n",
      " $ NA_Sales       : num  41.4 29.1 15.7 15.6 11.3 ...\n",
      " $ EU_Sales       : num  28.96 3.58 12.76 10.93 8.89 ...\n",
      " $ JP_Sales       : num  3.77 6.81 3.79 3.28 10.22 ...\n",
      " $ Other_Sales    : num  8.45 0.77 3.29 2.95 1 0.58 2.88 2.84 2.24 0.47 ...\n",
      " $ Global_Sales   : num  82.5 40.2 35.5 32.8 31.4 ...\n",
      " $ Critic_Score   : int  76 NA 82 80 NA NA 89 58 87 NA ...\n",
      " $ Critic_Count   : int  51 NA 73 73 NA NA 65 41 80 NA ...\n",
      " $ User_Score     : Factor w/ 96 levels \"0\",\"0.2\",\"0.3\",..: 78 NA 81 78 NA NA 83 64 82 NA ...\n",
      " $ User_Count     : int  322 NA 709 192 NA NA 431 129 594 NA ...\n",
      " $ Developer      : Factor w/ 1696 levels \"10tacle Studios\",..: 1034 NA 1034 1034 NA NA 1034 1034 1034 NA ...\n",
      " $ Rating         : Factor w/ 8 levels \"AO\",\"E\",\"E10+\",..: 2 NA 2 2 NA NA 2 2 2 NA ...\n"
     ]
    },
    {
     "data": {
      "text/plain": [
       "                          Name          Platform    Year_of_Release\n",
       " Need for Speed: Most Wanted:   12   PS2    :2161   Min.   :1980   \n",
       " FIFA 14                    :    9   DS     :2152   1st Qu.:2003   \n",
       " LEGO Marvel Super Heroes   :    9   PS3    :1331   Median :2007   \n",
       " Madden NFL 07              :    9   Wii    :1320   Mean   :2006   \n",
       " Ratatouille                :    9   X360   :1262   3rd Qu.:2010   \n",
       " (Other)                    :16669   PSP    :1209   Max.   :2020   \n",
       " NA's                       :    2   (Other):7284   NA's   :269    \n",
       "          Genre                             Publisher        NA_Sales      \n",
       " Action      :3370   Electronic Arts             : 1356   Min.   : 0.0000  \n",
       " Sports      :2348   Activision                  :  985   1st Qu.: 0.0000  \n",
       " Misc        :1750   Namco Bandai Games          :  939   Median : 0.0800  \n",
       " Role-Playing:1500   Ubisoft                     :  933   Mean   : 0.2633  \n",
       " Shooter     :1323   Konami Digital Entertainment:  834   3rd Qu.: 0.2400  \n",
       " (Other)     :6426   (Other)                     :11618   Max.   :41.3600  \n",
       " NA's        :   2   NA's                        :   54                    \n",
       "    EU_Sales         JP_Sales        Other_Sales        Global_Sales    \n",
       " Min.   : 0.000   Min.   : 0.0000   Min.   : 0.00000   Min.   : 0.0100  \n",
       " 1st Qu.: 0.000   1st Qu.: 0.0000   1st Qu.: 0.00000   1st Qu.: 0.0600  \n",
       " Median : 0.020   Median : 0.0000   Median : 0.01000   Median : 0.1700  \n",
       " Mean   : 0.145   Mean   : 0.0776   Mean   : 0.04733   Mean   : 0.5335  \n",
       " 3rd Qu.: 0.110   3rd Qu.: 0.0400   3rd Qu.: 0.03000   3rd Qu.: 0.4700  \n",
       " Max.   :28.960   Max.   :10.2200   Max.   :10.57000   Max.   :82.5300  \n",
       "                                                                        \n",
       "  Critic_Score    Critic_Count      User_Score     User_Count     \n",
       " Min.   :13.00   Min.   :  3.00   tbd    :2425   Min.   :    4.0  \n",
       " 1st Qu.:60.00   1st Qu.: 12.00   7.8    : 324   1st Qu.:   10.0  \n",
       " Median :71.00   Median : 21.00   8      : 290   Median :   24.0  \n",
       " Mean   :68.97   Mean   : 26.36   8.2    : 282   Mean   :  162.2  \n",
       " 3rd Qu.:79.00   3rd Qu.: 36.00   8.3    : 254   3rd Qu.:   81.0  \n",
       " Max.   :98.00   Max.   :113.00   (Other):6440   Max.   :10665.0  \n",
       " NA's   :8582    NA's   :8582     NA's   :6704   NA's   :9129     \n",
       "     Developer        Rating    \n",
       " Ubisoft  : 204   E      :3991  \n",
       " EA Sports: 172   T      :2961  \n",
       " EA Canada: 167   M      :1563  \n",
       " Konami   : 162   E10+   :1420  \n",
       " Capcom   : 139   EC     :   8  \n",
       " (Other)  :9252   (Other):   7  \n",
       " NA's     :6623   NA's   :6769  "
      ]
     },
     "metadata": {},
     "output_type": "display_data"
    }
   ],
   "source": [
    "str(sales)\n",
    "summary(sales)"
   ]
  },
  {
   "cell_type": "markdown",
   "metadata": {
    "_cell_guid": "9f979a26-91b5-61d4-a7d6-11a4ba77dbfc"
   },
   "source": [
    "Data Preparation\n",
    "--------------------\n",
    "\n",
    "'tbd' and 'K-A' are simply NA and 'E' respectively. \n",
    "Titles which couldn't be released right now are dropped. Ordinal values for rating for possible numeric usecases."
   ]
  },
  {
   "cell_type": "code",
   "execution_count": 7,
   "metadata": {
    "_cell_guid": "92aa8495-be61-49a2-43a5-917f178b79b5",
    "collapsed": true
   },
   "outputs": [],
   "source": [
    "sales$User_Score[sales$User_Score == 'tbd' & !is.na(sales$User_Score)] <- NA\n",
    "sales$User_Score <- as.numeric(as.character(sales$User_Score))\n",
    "sales <- sales[ !( sales$Year_of_Release > 2017 | is.na(sales$Year_of_Release)),]\n",
    "sales$Rating[sales$Rating == 'K-A' & !is.na(sales$Rating) ] <- 'E'\n",
    "sales$Rating[sales$Rating == 'RP' & !is.na(sales$Rating) ] <- NA\n",
    "sales$Ratingn <- as.numeric(as.character(factor(sales$Rating, levels =c(\"RP\", \"EC\", \"E\" ,\"E10+\", \"T\", \"M\",\"AO\"), labels = c(NA,1,2,3,4,5,6))))"
   ]
  },
  {
   "cell_type": "markdown",
   "metadata": {
    "_cell_guid": "34b522ec-745b-6d91-d456-d79c5a206043"
   },
   "source": [
    "Correlation Plot\n",
    "----------------"
   ]
  },
  {
   "cell_type": "code",
   "execution_count": 8,
   "metadata": {
    "_cell_guid": "5c9a05d0-3a54-02f8-61e4-3f05276f54a5"
   },
   "outputs": [
    {
     "data": {
      "image/png": "[encoded data removed]",
      "text/plain": [
       "plot without title"
      ]
     },
     "metadata": {},
     "output_type": "display_data"
    }
   ],
   "source": [
    "corrgram(sales[,sapply(sales, is.numeric)], order=TRUE, lower.panel=panel.pie,\n",
    "                upper.panel=panel.ellipse, text.panel=panel.txt,\n",
    "                main=\"Correlogram\")"
   ]
  },
  {
   "cell_type": "markdown",
   "metadata": {
    "_cell_guid": "dd994f69-83f7-d352-c144-4cae644b9eed"
   },
   "source": [
    "Not that interesting right now."
   ]
  },
  {
   "cell_type": "markdown",
   "metadata": {
    "_cell_guid": "a14c3e59-b357-f39f-425e-1b7283a38905"
   },
   "source": [
    "Some Definitions\n",
    "----------------"
   ]
  },
  {
   "cell_type": "markdown",
   "metadata": {
    "_cell_guid": "6e13d25a-841b-38f7-7da4-201d8dd0f32f"
   },
   "source": [
    "At first, list the available platforms"
   ]
  },
  {
   "cell_type": "code",
   "execution_count": 10,
   "metadata": {
    "_cell_guid": "906af134-a351-eee2-a982-65d8178206de"
   },
   "outputs": [
    {
     "data": {
      "text/html": [
       "<ol class=list-inline>\n",
       "\t<li>'2600'</li>\n",
       "\t<li>'3DO'</li>\n",
       "\t<li>'3DS'</li>\n",
       "\t<li>'DC'</li>\n",
       "\t<li>'DS'</li>\n",
       "\t<li>'GB'</li>\n",
       "\t<li>'GBA'</li>\n",
       "\t<li>'GC'</li>\n",
       "\t<li>'GEN'</li>\n",
       "\t<li>'GG'</li>\n",
       "\t<li>'N64'</li>\n",
       "\t<li>'NES'</li>\n",
       "\t<li>'NG'</li>\n",
       "\t<li>'PC'</li>\n",
       "\t<li>'PCFX'</li>\n",
       "\t<li>'PS'</li>\n",
       "\t<li>'PS2'</li>\n",
       "\t<li>'PS3'</li>\n",
       "\t<li>'PS4'</li>\n",
       "\t<li>'PSP'</li>\n",
       "\t<li>'PSV'</li>\n",
       "\t<li>'SAT'</li>\n",
       "\t<li>'SCD'</li>\n",
       "\t<li>'SNES'</li>\n",
       "\t<li>'TG16'</li>\n",
       "\t<li>'Wii'</li>\n",
       "\t<li>'WiiU'</li>\n",
       "\t<li>'WS'</li>\n",
       "\t<li>'X360'</li>\n",
       "\t<li>'XB'</li>\n",
       "\t<li>'XOne'</li>\n",
       "</ol>\n"
      ],
      "text/latex": [
       "\\begin{enumerate*}\n",
       "\\item '2600'\n",
       "\\item '3DO'\n",
       "\\item '3DS'\n",
       "\\item 'DC'\n",
       "\\item 'DS'\n",
       "\\item 'GB'\n",
       "\\item 'GBA'\n",
       "\\item 'GC'\n",
       "\\item 'GEN'\n",
       "\\item 'GG'\n",
       "\\item 'N64'\n",
       "\\item 'NES'\n",
       "\\item 'NG'\n",
       "\\item 'PC'\n",
       "\\item 'PCFX'\n",
       "\\item 'PS'\n",
       "\\item 'PS2'\n",
       "\\item 'PS3'\n",
       "\\item 'PS4'\n",
       "\\item 'PSP'\n",
       "\\item 'PSV'\n",
       "\\item 'SAT'\n",
       "\\item 'SCD'\n",
       "\\item 'SNES'\n",
       "\\item 'TG16'\n",
       "\\item 'Wii'\n",
       "\\item 'WiiU'\n",
       "\\item 'WS'\n",
       "\\item 'X360'\n",
       "\\item 'XB'\n",
       "\\item 'XOne'\n",
       "\\end{enumerate*}\n"
      ],
      "text/markdown": [
       "1. '2600'\n",
       "2. '3DO'\n",
       "3. '3DS'\n",
       "4. 'DC'\n",
       "5. 'DS'\n",
       "6. 'GB'\n",
       "7. 'GBA'\n",
       "8. 'GC'\n",
       "9. 'GEN'\n",
       "10. 'GG'\n",
       "11. 'N64'\n",
       "12. 'NES'\n",
       "13. 'NG'\n",
       "14. 'PC'\n",
       "15. 'PCFX'\n",
       "16. 'PS'\n",
       "17. 'PS2'\n",
       "18. 'PS3'\n",
       "19. 'PS4'\n",
       "20. 'PSP'\n",
       "21. 'PSV'\n",
       "22. 'SAT'\n",
       "23. 'SCD'\n",
       "24. 'SNES'\n",
       "25. 'TG16'\n",
       "26. 'Wii'\n",
       "27. 'WiiU'\n",
       "28. 'WS'\n",
       "29. 'X360'\n",
       "30. 'XB'\n",
       "31. 'XOne'\n",
       "\n",
       "\n"
      ],
      "text/plain": [
       " [1] \"2600\" \"3DO\"  \"3DS\"  \"DC\"   \"DS\"   \"GB\"   \"GBA\"  \"GC\"   \"GEN\"  \"GG\"  \n",
       "[11] \"N64\"  \"NES\"  \"NG\"   \"PC\"   \"PCFX\" \"PS\"   \"PS2\"  \"PS3\"  \"PS4\"  \"PSP\" \n",
       "[21] \"PSV\"  \"SAT\"  \"SCD\"  \"SNES\" \"TG16\" \"Wii\"  \"WiiU\" \"WS\"   \"X360\" \"XB\"  \n",
       "[31] \"XOne\""
      ]
     },
     "metadata": {},
     "output_type": "display_data"
    }
   ],
   "source": [
    "levels(sales$Platform)"
   ]
  },
  {
   "cell_type": "markdown",
   "metadata": {
    "_cell_guid": "2955acf5-229b-d4fb-a40d-69e53fca1c68"
   },
   "source": [
    "Defining the relevant vectors"
   ]
  },
  {
   "cell_type": "code",
   "execution_count": 11,
   "metadata": {
    "_cell_guid": "ab6c6483-1719-cc24-1141-afd64d3a0013",
    "collapsed": true
   },
   "outputs": [],
   "source": [
    "nintendoplatforms = c(\"3DS\",\"DS\",\"GB\",\"GBA\",\"N64\",\"GC\", \"NES\",\"SNES\",\"Wii\",\"WiiU\")\n",
    "sonyplatforms = c(\"PS\",\"PS2\",\"PSP\",\"PS3\",\"PS4\",\"PSV\")\n",
    "segaplatforms = c(\"GEN\",\"SCD\",\"DC\",\"GG\")\n",
    "msplatforms = c(\"XB\",\"X360\", \"XOne\")\n",
    "otherplatforms = c(\"2006\",\"3DO\",\"NG\",\"PCFX\",\"TG16\")\n",
    "fourthgen = c(\"SNES\", \"GEN\")\n",
    "fifthgen = c(\"N64\", \"SAT\",\"PS\")\n",
    "sixthgen = c(\"PS2\", \"GC\",\"DC\",\"XB\")\n",
    "seventhgen= c(\"Wii\",\"X360\",\"PS3\")"
   ]
  },
  {
   "cell_type": "markdown",
   "metadata": {
    "_cell_guid": "f07ec0df-6d0d-c222-95a2-1f060d68209c"
   },
   "source": [
    "Global Sales by Platform Vendor\n",
    "------------"
   ]
  },
  {
   "cell_type": "markdown",
   "metadata": {
    "_cell_guid": "44c997d6-f682-7e07-be92-5d3ba176359f"
   },
   "source": [
    "Assigning the platform vendor to every title."
   ]
  },
  {
   "cell_type": "code",
   "execution_count": 12,
   "metadata": {
    "_cell_guid": "9377a7f7-48d9-987e-6ae7-5090a1f2cb81",
    "collapsed": true
   },
   "outputs": [],
   "source": [
    "sales$Platformvendor[sales$Platform %in% nintendoplatforms] <- \"nintendo\"\n",
    "sales$Platformvendor[sales$Platform %in% sonyplatforms] <- \"sony\"\n",
    "sales$Platformvendor[sales$Platform %in% msplatforms] <- \"microsoft\"\n",
    "sales$Platformvendor[sales$Platform %in% segaplatforms] <- \"sega\"\n",
    "sales$Platformvendor[sales$Platform == \"PC\"] <- \"comp\"\n",
    "sales$Platformvendor[is.na(sales$Platformvendor)] <- \"other\""
   ]
  },
  {
   "cell_type": "code",
   "execution_count": 13,
   "metadata": {
    "_cell_guid": "9243e09e-c210-7ce9-ceb9-efe64ff82161"
   },
   "outputs": [
    {
     "data": {
      "image/png": "[encoded data removed]",
      "text/plain": [
       "plot without title"
      ]
     },
     "metadata": {},
     "output_type": "display_data"
    }
   ],
   "source": [
    "temp1 <- ggplot(sales, aes(x=Year_of_Release)) + \n",
    "geom_line(aes(y=..count.., color=Platformvendor), stat=\"bin\", bins = 30) + \n",
    "ggtitle(\"Released Titles per Year of Release\") +\n",
    "xlab(\"Year of Release\") + ylab(\"Released Titles\")\n",
    "\n",
    "temp2 <-ggplot(aggregate(Global_Sales~Platformvendor + Year_of_Release, data=sales, FUN=sum), aes(x=Year_of_Release)) + \n",
    "geom_line(aes(y=Global_Sales, color=Platformvendor)) + \n",
    "ggtitle(\"Sold Units per Year of Release\") +\n",
    "xlab(\"Year of Release\") + ylab(\"Sold Units (in Million)\")\n",
    "\n",
    "grid.arrange(temp1,temp2, ncol=1)"
   ]
  },
  {
   "cell_type": "markdown",
   "metadata": {
    "_cell_guid": "f05f12c8-f0b8-c218-2ba9-06138e6dd218"
   },
   "source": [
    "You can actually see, when new platforms were released by their vendors.\n",
    "Of course, newer games didn't have the time to perform well. "
   ]
  },
  {
   "cell_type": "markdown",
   "metadata": {
    "_cell_guid": "9288997e-f215-fa1f-ce08-3d124ae50714"
   },
   "source": [
    "Global Sales per 4th, 5th, 6th and 7th generation by platform\n",
    "------------"
   ]
  },
  {
   "cell_type": "code",
   "execution_count": 14,
   "metadata": {
    "_cell_guid": "b414dfd3-6b08-f0b7-6852-b642e40deb31",
    "collapsed": true
   },
   "outputs": [],
   "source": [
    "soltbyplatform <- aggregate(Global_Sales~Platform + Year_of_Release, data=sales, FUN=sum)\n",
    "\n",
    "fogr <- ggplot(sales[sales$Platform %in% fourthgen,], aes(Year_of_Release)) + \n",
    "geom_histogram(aes(fill = Platform), position=\"dodge\", binwidth=0.5) + \n",
    "ggtitle(\"Released Titles in the Fourth Generation of Video Game Consoles\") +\n",
    "xlab(\"Year\") + ylab(\"Released Titles\")\n",
    "\n",
    "figr <-ggplot(sales[sales$Platform %in% fifthgen,], aes(Year_of_Release)) + \n",
    "geom_histogram(aes(fill = Platform), position=\"dodge\", binwidth=0.5) +\n",
    "ggtitle(\"Released Titles in the Fifth Generation of Video Game Consoles\") + \n",
    "xlab(\"Year\") + ylab(\"Released Titles\")\n",
    "\n",
    "sigr <-ggplot(sales[sales$Platform %in% sixthgen,], aes(Year_of_Release)) + \n",
    "geom_histogram(aes(fill = Platform), position=\"dodge\", binwidth=0.5) + \n",
    "ggtitle(\"Released Titles in the Sixth Generation of Video Game Consoles\") +\n",
    "xlab(\"Year\") + ylab(\"Released Titles\")\n",
    "\n",
    "segr <-ggplot(sales[sales$Platform %in% seventhgen,], aes(Year_of_Release)) + \n",
    "geom_histogram(aes(fill = Platform), position=\"dodge\", binwidth=0.5) + \n",
    "ggtitle(\"Released Titles in the Seventh Generation of Video Game Consoles\") +\n",
    "xlab(\"Year\") + ylab(\"Released Titles\")\n",
    "\n",
    "fogs <- ggplot(soltbyplatform[soltbyplatform$Platform %in% fourthgen,], aes(x=Year_of_Release, y=Global_Sales, fill=Platform)) + \n",
    "geom_bar(aes(),stat = \"identity\", position=\"dodge\") +\n",
    "ggtitle(\"Sold Units in the Fourth Generation of Video Game Consoles\") + \n",
    "xlab(\"Year\") + ylab(\"Sold Units\")\n",
    "\n",
    "figs <- ggplot(soltbyplatform[soltbyplatform$Platform %in% fifthgen,], aes(x=Year_of_Release, y=Global_Sales, fill=Platform)) + \n",
    "geom_bar(aes(),stat = \"identity\", position=\"dodge\") + \n",
    "ggtitle(\"Sold Units in the Fifth Generation of Video Game Consoles\") +\n",
    "xlab(\"Year\") + ylab(\"Sold Units\")\n",
    "\n",
    "sigs <- ggplot(soltbyplatform[soltbyplatform$Platform %in% sixthgen,], aes(x=Year_of_Release, y=Global_Sales, fill=Platform)) + \n",
    "geom_bar(aes(),stat = \"identity\", position=\"dodge\") + \n",
    "ggtitle(\"Sold Units in the Sixth Generation of Video Game Consoles\") +\n",
    "xlab(\"Year\") + ylab(\"Sold Units\")\n",
    "\n",
    "segs <- ggplot(soltbyplatform[soltbyplatform$Platform %in% seventhgen,], aes(x=Year_of_Release, y=Global_Sales, fill=Platform)) + \n",
    "geom_bar(aes(),stat = \"identity\", position=\"dodge\") + \n",
    "ggtitle(\"Sold Units in the Seventh Generation of Video Game Consoles\") +\n",
    "xlab(\"Year\") + ylab(\"Sold Units\")"
   ]
  },
  {
   "cell_type": "markdown",
   "metadata": {
    "_cell_guid": "cd5ea1bc-cbb6-cbe1-bc15-523fa35b4f31"
   },
   "source": [
    "On the left side, there are the released titles of the fourth, fifth and sixth generation by platform.  \n",
    "On the right side, there are the total sold units of titles assigned to the the year of the title's release respectively.  \n",
    "The dataset may not resemble the actual situation here. E.g. the Genesis only has so few titles compared to the SNES.\n",
    "Showing only what the datset gives us"
   ]
  },
  {
   "cell_type": "code",
   "execution_count": 15,
   "metadata": {
    "_cell_guid": "47249e94-51c8-7df6-7aaa-53b5ed17cdff"
   },
   "outputs": [
    {
     "data": {
      "image/png": "[encoded data removed]",
      "text/plain": [
       "plot without title"
      ]
     },
     "metadata": {},
     "output_type": "display_data"
    }
   ],
   "source": [
    "grid.arrange(fogr,fogs,figr,figs,sigr,sigs,segr,segs, ncol=2)"
   ]
  },
  {
   "cell_type": "markdown",
   "metadata": {
    "_cell_guid": "9436f482-347b-9ad2-0a7e-3fe58e3d8dcd"
   },
   "source": [
    "The PS2 has a much better sales count per title than the competitors of the 6th generation.  \n",
    "Also, the Wii had a high efficency on a per title basis by its release, but it decreased rapidly compared to its competitors."
   ]
  },
  {
   "cell_type": "markdown",
   "metadata": {
    "_cell_guid": "f6fc145c-3ddd-480c-b6a4-554d7122448d"
   },
   "source": [
    "Investigation of Global Sales by platform\n",
    "---------------------------------------------------"
   ]
  },
  {
   "cell_type": "markdown",
   "metadata": {
    "_cell_guid": "5fd45abc-3874-0bff-4fa6-d42fe7645104"
   },
   "source": [
    "**Top 10 Mean of sales per title by platform, sorted by the mean of global sales**"
   ]
  },
  {
   "cell_type": "code",
   "execution_count": 23,
   "metadata": {
    "_cell_guid": "073522c4-5dff-e8cd-5ec8-4fefee472903"
   },
   "outputs": [
    {
     "data": {
      "text/html": [
       "<table>\n",
       "<thead><tr><th scope=col>Platform</th><th scope=col>Global_Sales</th><th scope=col>EU_Sales</th><th scope=col>NA_Sales</th><th scope=col>JP_Sales</th><th scope=col>Other_Sales</th></tr></thead>\n",
       "<tbody>\n",
       "\t<tr><td>GB         </td><td>2.6228866  </td><td>0.48979381 </td><td>1.1715464  </td><td>0.877525773</td><td>0.084123711</td></tr>\n",
       "\t<tr><td>NES        </td><td>2.5619388  </td><td>0.21581633 </td><td>1.2851020  </td><td>1.006632653</td><td>0.054183673</td></tr>\n",
       "\t<tr><td>GEN        </td><td>1.0613793  </td><td>0.20862069 </td><td>0.7258621  </td><td>0.093103448</td><td>0.033448276</td></tr>\n",
       "\t<tr><td>SNES       </td><td>0.8370293  </td><td>0.07966527 </td><td>0.2561925  </td><td>0.487656904</td><td>0.013472803</td></tr>\n",
       "\t<tr><td>PS4        </td><td>0.7995674  </td><td>0.35900763 </td><td>0.2766921  </td><td>0.040712468</td><td>0.123027990</td></tr>\n",
       "\t<tr><td>X360       </td><td>0.7803490  </td><td>0.21779221 </td><td>0.4835552  </td><td>0.009983766</td><td>0.068896104</td></tr>\n",
       "\t<tr><td>2600       </td><td>0.7462931  </td><td>0.04189655 </td><td>0.6963793  </td><td>0.000000000</td><td>0.007241379</td></tr>\n",
       "\t<tr><td>PS3        </td><td>0.7129786  </td><td>0.25054364 </td><td>0.2987213  </td><td>0.060803982</td><td>0.103055130</td></tr>\n",
       "\t<tr><td>Wii        </td><td>0.6934215  </td><td>0.20087092 </td><td>0.3785925  </td><td>0.053094868</td><td>0.060427683</td></tr>\n",
       "\t<tr><td>N64        </td><td>0.6905380  </td><td>0.12984177 </td><td>0.4395886  </td><td>0.106835443</td><td>0.013639241</td></tr>\n",
       "</tbody>\n",
       "</table>\n"
      ],
      "text/latex": [
       "\\begin{tabular}{r|llllll}\n",
       " Platform & Global\\_Sales & EU\\_Sales & NA\\_Sales & JP\\_Sales & Other\\_Sales\\\\\n",
       "\\hline\n",
       "\t GB          & 2.6228866   & 0.48979381  & 1.1715464   & 0.877525773 & 0.084123711\\\\\n",
       "\t NES         & 2.5619388   & 0.21581633  & 1.2851020   & 1.006632653 & 0.054183673\\\\\n",
       "\t GEN         & 1.0613793   & 0.20862069  & 0.7258621   & 0.093103448 & 0.033448276\\\\\n",
       "\t SNES        & 0.8370293   & 0.07966527  & 0.2561925   & 0.487656904 & 0.013472803\\\\\n",
       "\t PS4         & 0.7995674   & 0.35900763  & 0.2766921   & 0.040712468 & 0.123027990\\\\\n",
       "\t X360        & 0.7803490   & 0.21779221  & 0.4835552   & 0.009983766 & 0.068896104\\\\\n",
       "\t 2600        & 0.7462931   & 0.04189655  & 0.6963793   & 0.000000000 & 0.007241379\\\\\n",
       "\t PS3         & 0.7129786   & 0.25054364  & 0.2987213   & 0.060803982 & 0.103055130\\\\\n",
       "\t Wii         & 0.6934215   & 0.20087092  & 0.3785925   & 0.053094868 & 0.060427683\\\\\n",
       "\t N64         & 0.6905380   & 0.12984177  & 0.4395886   & 0.106835443 & 0.013639241\\\\\n",
       "\\end{tabular}\n"
      ],
      "text/markdown": [
       "\n",
       "Platform | Global_Sales | EU_Sales | NA_Sales | JP_Sales | Other_Sales | \n",
       "|---|---|---|---|---|---|---|---|---|---|\n",
       "| GB          | 2.6228866   | 0.48979381  | 1.1715464   | 0.877525773 | 0.084123711 | \n",
       "| NES         | 2.5619388   | 0.21581633  | 1.2851020   | 1.006632653 | 0.054183673 | \n",
       "| GEN         | 1.0613793   | 0.20862069  | 0.7258621   | 0.093103448 | 0.033448276 | \n",
       "| SNES        | 0.8370293   | 0.07966527  | 0.2561925   | 0.487656904 | 0.013472803 | \n",
       "| PS4         | 0.7995674   | 0.35900763  | 0.2766921   | 0.040712468 | 0.123027990 | \n",
       "| X360        | 0.7803490   | 0.21779221  | 0.4835552   | 0.009983766 | 0.068896104 | \n",
       "| 2600        | 0.7462931   | 0.04189655  | 0.6963793   | 0.000000000 | 0.007241379 | \n",
       "| PS3         | 0.7129786   | 0.25054364  | 0.2987213   | 0.060803982 | 0.103055130 | \n",
       "| Wii         | 0.6934215   | 0.20087092  | 0.3785925   | 0.053094868 | 0.060427683 | \n",
       "| N64         | 0.6905380   | 0.12984177  | 0.4395886   | 0.106835443 | 0.013639241 | \n",
       "\n",
       "\n"
      ],
      "text/plain": [
       "   Platform Global_Sales EU_Sales   NA_Sales  JP_Sales    Other_Sales\n",
       "1  GB       2.6228866    0.48979381 1.1715464 0.877525773 0.084123711\n",
       "2  NES      2.5619388    0.21581633 1.2851020 1.006632653 0.054183673\n",
       "3  GEN      1.0613793    0.20862069 0.7258621 0.093103448 0.033448276\n",
       "4  SNES     0.8370293    0.07966527 0.2561925 0.487656904 0.013472803\n",
       "5  PS4      0.7995674    0.35900763 0.2766921 0.040712468 0.123027990\n",
       "6  X360     0.7803490    0.21779221 0.4835552 0.009983766 0.068896104\n",
       "7  2600     0.7462931    0.04189655 0.6963793 0.000000000 0.007241379\n",
       "8  PS3      0.7129786    0.25054364 0.2987213 0.060803982 0.103055130\n",
       "9  Wii      0.6934215    0.20087092 0.3785925 0.053094868 0.060427683\n",
       "10 N64      0.6905380    0.12984177 0.4395886 0.106835443 0.013639241"
      ]
     },
     "metadata": {},
     "output_type": "display_data"
    }
   ],
   "source": [
    "meanplatformsale <- aggregate(cbind(Global_Sales,EU_Sales,NA_Sales,JP_Sales,Other_Sales)~Platform, data=sales, FUN=mean)\n",
    "meanplatformsale <- meanplatformsale[order(-meanplatformsale$Global_Sales),]\n",
    "rownames(meanplatformsale) <- NULL\n",
    "head(meanplatformsale, n=10)"
   ]
  },
  {
   "cell_type": "markdown",
   "metadata": {
    "_cell_guid": "0cae554f-f064-884b-2ce6-18a5403476ff"
   },
   "source": [
    "**Top 10 Sum of sales by platform, sorted by the sum of global sales**"
   ]
  },
  {
   "cell_type": "code",
   "execution_count": 22,
   "metadata": {
    "_cell_guid": "0dd6de00-e14f-3b16-4f59-d5bf810f9660"
   },
   "outputs": [
    {
     "data": {
      "text/html": [
       "<table>\n",
       "<thead><tr><th scope=col>Platform</th><th scope=col>Global_Sales</th><th scope=col>EU_Sales</th><th scope=col>NA_Sales</th><th scope=col>JP_Sales</th><th scope=col>Other_Sales</th></tr></thead>\n",
       "<tbody>\n",
       "\t<tr><td>PS2    </td><td>1233.46</td><td>332.63 </td><td>572.92 </td><td>137.54 </td><td>190.47 </td></tr>\n",
       "\t<tr><td>X360   </td><td> 961.39</td><td>268.32 </td><td>595.74 </td><td> 12.30 </td><td> 84.88 </td></tr>\n",
       "\t<tr><td>PS3    </td><td> 931.15</td><td>327.21 </td><td>390.13 </td><td> 79.41 </td><td>134.59 </td></tr>\n",
       "\t<tr><td>Wii    </td><td> 891.74</td><td>258.32 </td><td>486.87 </td><td> 68.28 </td><td> 77.71 </td></tr>\n",
       "\t<tr><td>DS     </td><td> 803.44</td><td>188.41 </td><td>380.31 </td><td>175.02 </td><td> 59.04 </td></tr>\n",
       "\t<tr><td>PS     </td><td> 727.41</td><td>212.39 </td><td>334.72 </td><td>139.78 </td><td> 40.69 </td></tr>\n",
       "\t<tr><td>PS4    </td><td> 314.23</td><td>141.09 </td><td>108.74 </td><td> 16.00 </td><td> 48.35 </td></tr>\n",
       "\t<tr><td>GBA    </td><td> 313.56</td><td> 74.59 </td><td>184.12 </td><td> 46.56 </td><td>  7.61 </td></tr>\n",
       "\t<tr><td>PSP    </td><td> 289.79</td><td> 65.62 </td><td>107.27 </td><td> 75.88 </td><td> 40.76 </td></tr>\n",
       "\t<tr><td>3DS    </td><td> 257.92</td><td> 61.27 </td><td> 82.65 </td><td>100.62 </td><td> 13.27 </td></tr>\n",
       "</tbody>\n",
       "</table>\n"
      ],
      "text/latex": [
       "\\begin{tabular}{r|llllll}\n",
       " Platform & Global\\_Sales & EU\\_Sales & NA\\_Sales & JP\\_Sales & Other\\_Sales\\\\\n",
       "\\hline\n",
       "\t PS2     & 1233.46 & 332.63  & 572.92  & 137.54  & 190.47 \\\\\n",
       "\t X360    &  961.39 & 268.32  & 595.74  &  12.30  &  84.88 \\\\\n",
       "\t PS3     &  931.15 & 327.21  & 390.13  &  79.41  & 134.59 \\\\\n",
       "\t Wii     &  891.74 & 258.32  & 486.87  &  68.28  &  77.71 \\\\\n",
       "\t DS      &  803.44 & 188.41  & 380.31  & 175.02  &  59.04 \\\\\n",
       "\t PS      &  727.41 & 212.39  & 334.72  & 139.78  &  40.69 \\\\\n",
       "\t PS4     &  314.23 & 141.09  & 108.74  &  16.00  &  48.35 \\\\\n",
       "\t GBA     &  313.56 &  74.59  & 184.12  &  46.56  &   7.61 \\\\\n",
       "\t PSP     &  289.79 &  65.62  & 107.27  &  75.88  &  40.76 \\\\\n",
       "\t 3DS     &  257.92 &  61.27  &  82.65  & 100.62  &  13.27 \\\\\n",
       "\\end{tabular}\n"
      ],
      "text/markdown": [
       "\n",
       "Platform | Global_Sales | EU_Sales | NA_Sales | JP_Sales | Other_Sales | \n",
       "|---|---|---|---|---|---|---|---|---|---|\n",
       "| PS2     | 1233.46 | 332.63  | 572.92  | 137.54  | 190.47  | \n",
       "| X360    |  961.39 | 268.32  | 595.74  |  12.30  |  84.88  | \n",
       "| PS3     |  931.15 | 327.21  | 390.13  |  79.41  | 134.59  | \n",
       "| Wii     |  891.74 | 258.32  | 486.87  |  68.28  |  77.71  | \n",
       "| DS      |  803.44 | 188.41  | 380.31  | 175.02  |  59.04  | \n",
       "| PS      |  727.41 | 212.39  | 334.72  | 139.78  |  40.69  | \n",
       "| PS4     |  314.23 | 141.09  | 108.74  |  16.00  |  48.35  | \n",
       "| GBA     |  313.56 |  74.59  | 184.12  |  46.56  |   7.61  | \n",
       "| PSP     |  289.79 |  65.62  | 107.27  |  75.88  |  40.76  | \n",
       "| 3DS     |  257.92 |  61.27  |  82.65  | 100.62  |  13.27  | \n",
       "\n",
       "\n"
      ],
      "text/plain": [
       "   Platform Global_Sales EU_Sales NA_Sales JP_Sales Other_Sales\n",
       "1  PS2      1233.46      332.63   572.92   137.54   190.47     \n",
       "2  X360      961.39      268.32   595.74    12.30    84.88     \n",
       "3  PS3       931.15      327.21   390.13    79.41   134.59     \n",
       "4  Wii       891.74      258.32   486.87    68.28    77.71     \n",
       "5  DS        803.44      188.41   380.31   175.02    59.04     \n",
       "6  PS        727.41      212.39   334.72   139.78    40.69     \n",
       "7  PS4       314.23      141.09   108.74    16.00    48.35     \n",
       "8  GBA       313.56       74.59   184.12    46.56     7.61     \n",
       "9  PSP       289.79       65.62   107.27    75.88    40.76     \n",
       "10 3DS       257.92       61.27    82.65   100.62    13.27     "
      ]
     },
     "metadata": {},
     "output_type": "display_data"
    }
   ],
   "source": [
    "sumplatformsale <- aggregate(cbind(Global_Sales,EU_Sales,NA_Sales,JP_Sales,Other_Sales)~Platform, data=sales, FUN=sum)\n",
    "sumplatformsale <- sumplatformsale[order(-sumplatformsale$Global_Sales),]\n",
    "rownames(sumplatformsale) <- NULL\n",
    "head(sumplatformsale, n=10)"
   ]
  },
  {
   "cell_type": "markdown",
   "metadata": {
    "_cell_guid": "9e28b835-7526-6b02-79ea-28c4fce308f2"
   },
   "source": [
    "Gameboy titles give us the best average result, whereas PS2 titles were sold the most.\n",
    "\n",
    "**Number of Titles and standard deviation of global sales by platform**"
   ]
  },
  {
   "cell_type": "code",
   "execution_count": 24,
   "metadata": {
    "_cell_guid": "f34c4cf8-9370-862e-de68-4dc812cc725f"
   },
   "outputs": [
    {
     "data": {
      "text/html": [
       "<table>\n",
       "<thead><tr><th scope=col>Platform</th><th scope=col>number of titles</th><th scope=col>SD of Global Sales</th></tr></thead>\n",
       "<tbody>\n",
       "\t<tr><td>PS2       </td><td>2127      </td><td>1.13855795</td></tr>\n",
       "\t<tr><td>DS        </td><td>2121      </td><td>1.43610896</td></tr>\n",
       "\t<tr><td>PS3       </td><td>1306      </td><td>1.40287939</td></tr>\n",
       "\t<tr><td>Wii       </td><td>1286      </td><td>3.16478588</td></tr>\n",
       "\t<tr><td>X360      </td><td>1232      </td><td>1.63182498</td></tr>\n",
       "\t<tr><td>PSP       </td><td>1193      </td><td>0.52201742</td></tr>\n",
       "\t<tr><td>PS        </td><td>1190      </td><td>1.05669295</td></tr>\n",
       "\t<tr><td>PC        </td><td> 957      </td><td>0.67970490</td></tr>\n",
       "\t<tr><td>GBA       </td><td> 811      </td><td>0.89929816</td></tr>\n",
       "\t<tr><td>XB        </td><td> 803      </td><td>0.53885832</td></tr>\n",
       "\t<tr><td>GC        </td><td> 542      </td><td>0.69310690</td></tr>\n",
       "\t<tr><td>3DS       </td><td> 512      </td><td>1.44137437</td></tr>\n",
       "\t<tr><td>PSV       </td><td> 431      </td><td>0.21184227</td></tr>\n",
       "\t<tr><td>PS4       </td><td> 393      </td><td>1.60714716</td></tr>\n",
       "\t<tr><td>N64       </td><td> 316      </td><td>1.32141532</td></tr>\n",
       "\t<tr><td>XOne      </td><td> 247      </td><td>1.03597311</td></tr>\n",
       "\t<tr><td>SNES      </td><td> 239      </td><td>1.86905876</td></tr>\n",
       "\t<tr><td>SAT       </td><td> 173      </td><td>0.21784894</td></tr>\n",
       "\t<tr><td>WiiU      </td><td> 147      </td><td>1.05821194</td></tr>\n",
       "\t<tr><td>2600      </td><td> 116      </td><td>0.95557088</td></tr>\n",
       "\t<tr><td>NES       </td><td>  98      </td><td>5.10819529</td></tr>\n",
       "\t<tr><td>GB        </td><td>  97      </td><td>5.39073297</td></tr>\n",
       "\t<tr><td>DC        </td><td>  52      </td><td>0.46991170</td></tr>\n",
       "\t<tr><td>GEN       </td><td>  29      </td><td>1.47268880</td></tr>\n",
       "\t<tr><td>NG        </td><td>  12      </td><td>0.08224133</td></tr>\n",
       "\t<tr><td>SCD       </td><td>   6      </td><td>0.58314378</td></tr>\n",
       "\t<tr><td>WS        </td><td>   6      </td><td>0.15945741</td></tr>\n",
       "\t<tr><td>3DO       </td><td>   3      </td><td>0.02309401</td></tr>\n",
       "\t<tr><td>TG16      </td><td>   2      </td><td>0.08485281</td></tr>\n",
       "\t<tr><td>GG        </td><td>   1      </td><td>        NA</td></tr>\n",
       "\t<tr><td>PCFX      </td><td>   1      </td><td>        NA</td></tr>\n",
       "</tbody>\n",
       "</table>\n"
      ],
      "text/latex": [
       "\\begin{tabular}{r|lll}\n",
       " Platform & number of titles & SD of Global Sales\\\\\n",
       "\\hline\n",
       "\t PS2        & 2127       & 1.13855795\\\\\n",
       "\t DS         & 2121       & 1.43610896\\\\\n",
       "\t PS3        & 1306       & 1.40287939\\\\\n",
       "\t Wii        & 1286       & 3.16478588\\\\\n",
       "\t X360       & 1232       & 1.63182498\\\\\n",
       "\t PSP        & 1193       & 0.52201742\\\\\n",
       "\t PS         & 1190       & 1.05669295\\\\\n",
       "\t PC         &  957       & 0.67970490\\\\\n",
       "\t GBA        &  811       & 0.89929816\\\\\n",
       "\t XB         &  803       & 0.53885832\\\\\n",
       "\t GC         &  542       & 0.69310690\\\\\n",
       "\t 3DS        &  512       & 1.44137437\\\\\n",
       "\t PSV        &  431       & 0.21184227\\\\\n",
       "\t PS4        &  393       & 1.60714716\\\\\n",
       "\t N64        &  316       & 1.32141532\\\\\n",
       "\t XOne       &  247       & 1.03597311\\\\\n",
       "\t SNES       &  239       & 1.86905876\\\\\n",
       "\t SAT        &  173       & 0.21784894\\\\\n",
       "\t WiiU       &  147       & 1.05821194\\\\\n",
       "\t 2600       &  116       & 0.95557088\\\\\n",
       "\t NES        &   98       & 5.10819529\\\\\n",
       "\t GB         &   97       & 5.39073297\\\\\n",
       "\t DC         &   52       & 0.46991170\\\\\n",
       "\t GEN        &   29       & 1.47268880\\\\\n",
       "\t NG         &   12       & 0.08224133\\\\\n",
       "\t SCD        &    6       & 0.58314378\\\\\n",
       "\t WS         &    6       & 0.15945741\\\\\n",
       "\t 3DO        &    3       & 0.02309401\\\\\n",
       "\t TG16       &    2       & 0.08485281\\\\\n",
       "\t GG         &    1       &         NA\\\\\n",
       "\t PCFX       &    1       &         NA\\\\\n",
       "\\end{tabular}\n"
      ],
      "text/markdown": [
       "\n",
       "Platform | number of titles | SD of Global Sales | \n",
       "|---|---|---|---|---|---|---|---|---|---|---|---|---|---|---|---|---|---|---|---|---|---|---|---|---|---|---|---|---|---|---|\n",
       "| PS2        | 2127       | 1.13855795 | \n",
       "| DS         | 2121       | 1.43610896 | \n",
       "| PS3        | 1306       | 1.40287939 | \n",
       "| Wii        | 1286       | 3.16478588 | \n",
       "| X360       | 1232       | 1.63182498 | \n",
       "| PSP        | 1193       | 0.52201742 | \n",
       "| PS         | 1190       | 1.05669295 | \n",
       "| PC         |  957       | 0.67970490 | \n",
       "| GBA        |  811       | 0.89929816 | \n",
       "| XB         |  803       | 0.53885832 | \n",
       "| GC         |  542       | 0.69310690 | \n",
       "| 3DS        |  512       | 1.44137437 | \n",
       "| PSV        |  431       | 0.21184227 | \n",
       "| PS4        |  393       | 1.60714716 | \n",
       "| N64        |  316       | 1.32141532 | \n",
       "| XOne       |  247       | 1.03597311 | \n",
       "| SNES       |  239       | 1.86905876 | \n",
       "| SAT        |  173       | 0.21784894 | \n",
       "| WiiU       |  147       | 1.05821194 | \n",
       "| 2600       |  116       | 0.95557088 | \n",
       "| NES        |   98       | 5.10819529 | \n",
       "| GB         |   97       | 5.39073297 | \n",
       "| DC         |   52       | 0.46991170 | \n",
       "| GEN        |   29       | 1.47268880 | \n",
       "| NG         |   12       | 0.08224133 | \n",
       "| SCD        |    6       | 0.58314378 | \n",
       "| WS         |    6       | 0.15945741 | \n",
       "| 3DO        |    3       | 0.02309401 | \n",
       "| TG16       |    2       | 0.08485281 | \n",
       "| GG         |    1       |         NA | \n",
       "| PCFX       |    1       |         NA | \n",
       "\n",
       "\n"
      ],
      "text/plain": [
       "   Platform number of titles SD of Global Sales\n",
       "1  PS2      2127             1.13855795        \n",
       "2  DS       2121             1.43610896        \n",
       "3  PS3      1306             1.40287939        \n",
       "4  Wii      1286             3.16478588        \n",
       "5  X360     1232             1.63182498        \n",
       "6  PSP      1193             0.52201742        \n",
       "7  PS       1190             1.05669295        \n",
       "8  PC        957             0.67970490        \n",
       "9  GBA       811             0.89929816        \n",
       "10 XB        803             0.53885832        \n",
       "11 GC        542             0.69310690        \n",
       "12 3DS       512             1.44137437        \n",
       "13 PSV       431             0.21184227        \n",
       "14 PS4       393             1.60714716        \n",
       "15 N64       316             1.32141532        \n",
       "16 XOne      247             1.03597311        \n",
       "17 SNES      239             1.86905876        \n",
       "18 SAT       173             0.21784894        \n",
       "19 WiiU      147             1.05821194        \n",
       "20 2600      116             0.95557088        \n",
       "21 NES        98             5.10819529        \n",
       "22 GB         97             5.39073297        \n",
       "23 DC         52             0.46991170        \n",
       "24 GEN        29             1.47268880        \n",
       "25 NG         12             0.08224133        \n",
       "26 SCD         6             0.58314378        \n",
       "27 WS          6             0.15945741        \n",
       "28 3DO         3             0.02309401        \n",
       "29 TG16        2             0.08485281        \n",
       "30 GG          1                     NA        \n",
       "31 PCFX        1                     NA        "
      ]
     },
     "metadata": {},
     "output_type": "display_data"
    }
   ],
   "source": [
    "temp1 <- aggregate(Global_Sales~Platform, data=sales, FUN=length)\n",
    "temp2 <- aggregate(Global_Sales~Platform, data=sales, FUN=sd)\n",
    "\n",
    "colnames(temp1)[2] <- \"number of titles\"\n",
    "colnames(temp2)[2] <- \"SD of Global Sales\"\n",
    "\n",
    "temp3 <- merge(temp1,temp2, id=\"Platform\")\n",
    "temp3 <- temp3[order(-temp3[2]),]\n",
    "rownames(temp3) <- NULL\n",
    "temp3"
   ]
  },
  {
   "cell_type": "markdown",
   "metadata": {
    "_cell_guid": "75dec36c-16b2-badf-899c-dcc1b3215ca0"
   },
   "source": [
    "The NES and the GB are the kings of deviation but also have so few titles. \n",
    "Well, at least we can see that the deviaton of the Wii is much higher than the deviation of the X360 and PS3."
   ]
  },
  {
   "cell_type": "markdown",
   "metadata": {
    "_cell_guid": "cf03a07e-849e-66d9-2330-948bc04777fd"
   },
   "source": [
    "Investigation of Global Sales by Genre\n",
    "---------------------------------------------------"
   ]
  },
  {
   "cell_type": "markdown",
   "metadata": {
    "_cell_guid": "a1d2d146-5b20-4a84-16c3-2a23d1fe01e5"
   },
   "source": [
    "**Mean of sales by genre, sorted by the mean of global sales**"
   ]
  },
  {
   "cell_type": "code",
   "execution_count": 26,
   "metadata": {
    "_cell_guid": "eb8b4c7b-5d43-7ad8-b7d3-4c7cca94f9aa"
   },
   "outputs": [
    {
     "data": {
      "text/html": [
       "<table>\n",
       "<thead><tr><th scope=col>Genre</th><th scope=col>Global_Sales</th><th scope=col>EU_Sales</th><th scope=col>NA_Sales</th><th scope=col>JP_Sales</th><th scope=col>Other_Sales</th></tr></thead>\n",
       "<tbody>\n",
       "\t<tr><td>Platform    </td><td>0.9406150   </td><td>0.22709567  </td><td>0.50619590  </td><td>0.14887244  </td><td>0.05809795  </td></tr>\n",
       "\t<tr><td>Shooter     </td><td>0.8038812   </td><td>0.24268519  </td><td>0.45125772  </td><td>0.02984568  </td><td>0.07972994  </td></tr>\n",
       "\t<tr><td>Role-Playing</td><td>0.6277141   </td><td>0.12693189  </td><td>0.22254889  </td><td>0.23832771  </td><td>0.04006069  </td></tr>\n",
       "\t<tr><td>Racing      </td><td>0.5902936   </td><td>0.19126427  </td><td>0.29107667  </td><td>0.04619086  </td><td>0.06159054  </td></tr>\n",
       "\t<tr><td>Sports      </td><td>0.5682524   </td><td>0.16102775  </td><td>0.29106678  </td><td>0.05851258  </td><td>0.05733304  </td></tr>\n",
       "\t<tr><td>Fighting    </td><td>0.5288292   </td><td>0.11827957  </td><td>0.26345281  </td><td>0.10427718  </td><td>0.04285544  </td></tr>\n",
       "\t<tr><td>Action      </td><td>0.5192352   </td><td>0.15447098  </td><td>0.26093410  </td><td>0.04841294  </td><td>0.05508464  </td></tr>\n",
       "\t<tr><td>Misc        </td><td>0.4595816   </td><td>0.12237071  </td><td>0.23217316  </td><td>0.06218478  </td><td>0.04247531  </td></tr>\n",
       "\t<tr><td>Simulation  </td><td>0.4528705   </td><td>0.13226371  </td><td>0.21050175  </td><td>0.07425904  </td><td>0.03567095  </td></tr>\n",
       "\t<tr><td>Puzzle      </td><td>0.4223726   </td><td>0.08748682  </td><td>0.21288225  </td><td>0.09961336  </td><td>0.02161687  </td></tr>\n",
       "\t<tr><td>Strategy    </td><td>0.2568351   </td><td>0.06655275  </td><td>0.10066865  </td><td>0.07325409  </td><td>0.01594354  </td></tr>\n",
       "\t<tr><td>Adventure   </td><td>0.1805568   </td><td>0.04887858  </td><td>0.07851508  </td><td>0.04040217  </td><td>0.01266048  </td></tr>\n",
       "</tbody>\n",
       "</table>\n"
      ],
      "text/latex": [
       "\\begin{tabular}{r|llllll}\n",
       " Genre & Global\\_Sales & EU\\_Sales & NA\\_Sales & JP\\_Sales & Other\\_Sales\\\\\n",
       "\\hline\n",
       "\t Platform     & 0.9406150    & 0.22709567   & 0.50619590   & 0.14887244   & 0.05809795  \\\\\n",
       "\t Shooter      & 0.8038812    & 0.24268519   & 0.45125772   & 0.02984568   & 0.07972994  \\\\\n",
       "\t Role-Playing & 0.6277141    & 0.12693189   & 0.22254889   & 0.23832771   & 0.04006069  \\\\\n",
       "\t Racing       & 0.5902936    & 0.19126427   & 0.29107667   & 0.04619086   & 0.06159054  \\\\\n",
       "\t Sports       & 0.5682524    & 0.16102775   & 0.29106678   & 0.05851258   & 0.05733304  \\\\\n",
       "\t Fighting     & 0.5288292    & 0.11827957   & 0.26345281   & 0.10427718   & 0.04285544  \\\\\n",
       "\t Action       & 0.5192352    & 0.15447098   & 0.26093410   & 0.04841294   & 0.05508464  \\\\\n",
       "\t Misc         & 0.4595816    & 0.12237071   & 0.23217316   & 0.06218478   & 0.04247531  \\\\\n",
       "\t Simulation   & 0.4528705    & 0.13226371   & 0.21050175   & 0.07425904   & 0.03567095  \\\\\n",
       "\t Puzzle       & 0.4223726    & 0.08748682   & 0.21288225   & 0.09961336   & 0.02161687  \\\\\n",
       "\t Strategy     & 0.2568351    & 0.06655275   & 0.10066865   & 0.07325409   & 0.01594354  \\\\\n",
       "\t Adventure    & 0.1805568    & 0.04887858   & 0.07851508   & 0.04040217   & 0.01266048  \\\\\n",
       "\\end{tabular}\n"
      ],
      "text/markdown": [
       "\n",
       "Genre | Global_Sales | EU_Sales | NA_Sales | JP_Sales | Other_Sales | \n",
       "|---|---|---|---|---|---|---|---|---|---|---|---|\n",
       "| Platform     | 0.9406150    | 0.22709567   | 0.50619590   | 0.14887244   | 0.05809795   | \n",
       "| Shooter      | 0.8038812    | 0.24268519   | 0.45125772   | 0.02984568   | 0.07972994   | \n",
       "| Role-Playing | 0.6277141    | 0.12693189   | 0.22254889   | 0.23832771   | 0.04006069   | \n",
       "| Racing       | 0.5902936    | 0.19126427   | 0.29107667   | 0.04619086   | 0.06159054   | \n",
       "| Sports       | 0.5682524    | 0.16102775   | 0.29106678   | 0.05851258   | 0.05733304   | \n",
       "| Fighting     | 0.5288292    | 0.11827957   | 0.26345281   | 0.10427718   | 0.04285544   | \n",
       "| Action       | 0.5192352    | 0.15447098   | 0.26093410   | 0.04841294   | 0.05508464   | \n",
       "| Misc         | 0.4595816    | 0.12237071   | 0.23217316   | 0.06218478   | 0.04247531   | \n",
       "| Simulation   | 0.4528705    | 0.13226371   | 0.21050175   | 0.07425904   | 0.03567095   | \n",
       "| Puzzle       | 0.4223726    | 0.08748682   | 0.21288225   | 0.09961336   | 0.02161687   | \n",
       "| Strategy     | 0.2568351    | 0.06655275   | 0.10066865   | 0.07325409   | 0.01594354   | \n",
       "| Adventure    | 0.1805568    | 0.04887858   | 0.07851508   | 0.04040217   | 0.01266048   | \n",
       "\n",
       "\n"
      ],
      "text/plain": [
       "   Genre        Global_Sales EU_Sales   NA_Sales   JP_Sales   Other_Sales\n",
       "1  Platform     0.9406150    0.22709567 0.50619590 0.14887244 0.05809795 \n",
       "2  Shooter      0.8038812    0.24268519 0.45125772 0.02984568 0.07972994 \n",
       "3  Role-Playing 0.6277141    0.12693189 0.22254889 0.23832771 0.04006069 \n",
       "4  Racing       0.5902936    0.19126427 0.29107667 0.04619086 0.06159054 \n",
       "5  Sports       0.5682524    0.16102775 0.29106678 0.05851258 0.05733304 \n",
       "6  Fighting     0.5288292    0.11827957 0.26345281 0.10427718 0.04285544 \n",
       "7  Action       0.5192352    0.15447098 0.26093410 0.04841294 0.05508464 \n",
       "8  Misc         0.4595816    0.12237071 0.23217316 0.06218478 0.04247531 \n",
       "9  Simulation   0.4528705    0.13226371 0.21050175 0.07425904 0.03567095 \n",
       "10 Puzzle       0.4223726    0.08748682 0.21288225 0.09961336 0.02161687 \n",
       "11 Strategy     0.2568351    0.06655275 0.10066865 0.07325409 0.01594354 \n",
       "12 Adventure    0.1805568    0.04887858 0.07851508 0.04040217 0.01266048 "
      ]
     },
     "metadata": {},
     "output_type": "display_data"
    }
   ],
   "source": [
    "meangenresale <- aggregate(cbind(Global_Sales,EU_Sales,NA_Sales,JP_Sales,Other_Sales)~Genre, data=sales, FUN=mean)\n",
    "meangenresale <- meangenresale[order(-meangenresale$Global_Sales),]\n",
    "rownames(meangenresale) <- NULL\n",
    "head(meangenresale, n=12)"
   ]
  },
  {
   "cell_type": "markdown",
   "metadata": {
    "_cell_guid": "e3866401-8d55-66e2-20b4-1ef5061b33aa"
   },
   "source": [
    "**Sum of sales by genre, sorted by sum of global sales**"
   ]
  },
  {
   "cell_type": "code",
   "execution_count": 25,
   "metadata": {
    "_cell_guid": "f4566e45-f7d5-8978-305e-8c73b06d1a50"
   },
   "outputs": [
    {
     "data": {
      "text/html": [
       "<table>\n",
       "<thead><tr><th scope=col>Genre</th><th scope=col>Global_Sales</th><th scope=col>EU_Sales</th><th scope=col>NA_Sales</th><th scope=col>JP_Sales</th><th scope=col>Other_Sales</th></tr></thead>\n",
       "<tbody>\n",
       "\t<tr><td>Action      </td><td>1717.63     </td><td>510.99      </td><td>863.17      </td><td>160.15      </td><td>182.22      </td></tr>\n",
       "\t<tr><td>Sports      </td><td>1310.39     </td><td>371.33      </td><td>671.20      </td><td>134.93      </td><td>132.21      </td></tr>\n",
       "\t<tr><td>Shooter     </td><td>1041.83     </td><td>314.52      </td><td>584.83      </td><td> 38.68      </td><td>103.33      </td></tr>\n",
       "\t<tr><td>Role-Playing</td><td> 930.90     </td><td>188.24      </td><td>330.04      </td><td>353.44      </td><td> 59.41      </td></tr>\n",
       "\t<tr><td>Platform    </td><td> 825.86     </td><td>199.39      </td><td>444.44      </td><td>130.71      </td><td> 51.01      </td></tr>\n",
       "\t<tr><td>Misc        </td><td> 790.94     </td><td>210.60      </td><td>399.57      </td><td>107.02      </td><td> 73.10      </td></tr>\n",
       "\t<tr><td>Racing      </td><td> 723.70     </td><td>234.49      </td><td>356.86      </td><td> 56.63      </td><td> 75.51      </td></tr>\n",
       "\t<tr><td>Fighting    </td><td> 442.63     </td><td> 99.00      </td><td>220.51      </td><td> 87.28      </td><td> 35.87      </td></tr>\n",
       "\t<tr><td>Simulation  </td><td> 388.11     </td><td>113.35      </td><td>180.40      </td><td> 63.64      </td><td> 30.57      </td></tr>\n",
       "\t<tr><td>Puzzle      </td><td> 240.33     </td><td> 49.78      </td><td>121.13      </td><td> 56.68      </td><td> 12.30      </td></tr>\n",
       "\t<tr><td>Adventure   </td><td> 233.46     </td><td> 63.20      </td><td>101.52      </td><td> 52.24      </td><td> 16.37      </td></tr>\n",
       "\t<tr><td>Strategy    </td><td> 172.85     </td><td> 44.79      </td><td> 67.75      </td><td> 49.30      </td><td> 10.73      </td></tr>\n",
       "</tbody>\n",
       "</table>\n"
      ],
      "text/latex": [
       "\\begin{tabular}{r|llllll}\n",
       " Genre & Global\\_Sales & EU\\_Sales & NA\\_Sales & JP\\_Sales & Other\\_Sales\\\\\n",
       "\\hline\n",
       "\t Action       & 1717.63      & 510.99       & 863.17       & 160.15       & 182.22      \\\\\n",
       "\t Sports       & 1310.39      & 371.33       & 671.20       & 134.93       & 132.21      \\\\\n",
       "\t Shooter      & 1041.83      & 314.52       & 584.83       &  38.68       & 103.33      \\\\\n",
       "\t Role-Playing &  930.90      & 188.24       & 330.04       & 353.44       &  59.41      \\\\\n",
       "\t Platform     &  825.86      & 199.39       & 444.44       & 130.71       &  51.01      \\\\\n",
       "\t Misc         &  790.94      & 210.60       & 399.57       & 107.02       &  73.10      \\\\\n",
       "\t Racing       &  723.70      & 234.49       & 356.86       &  56.63       &  75.51      \\\\\n",
       "\t Fighting     &  442.63      &  99.00       & 220.51       &  87.28       &  35.87      \\\\\n",
       "\t Simulation   &  388.11      & 113.35       & 180.40       &  63.64       &  30.57      \\\\\n",
       "\t Puzzle       &  240.33      &  49.78       & 121.13       &  56.68       &  12.30      \\\\\n",
       "\t Adventure    &  233.46      &  63.20       & 101.52       &  52.24       &  16.37      \\\\\n",
       "\t Strategy     &  172.85      &  44.79       &  67.75       &  49.30       &  10.73      \\\\\n",
       "\\end{tabular}\n"
      ],
      "text/markdown": [
       "\n",
       "Genre | Global_Sales | EU_Sales | NA_Sales | JP_Sales | Other_Sales | \n",
       "|---|---|---|---|---|---|---|---|---|---|---|---|\n",
       "| Action       | 1717.63      | 510.99       | 863.17       | 160.15       | 182.22       | \n",
       "| Sports       | 1310.39      | 371.33       | 671.20       | 134.93       | 132.21       | \n",
       "| Shooter      | 1041.83      | 314.52       | 584.83       |  38.68       | 103.33       | \n",
       "| Role-Playing |  930.90      | 188.24       | 330.04       | 353.44       |  59.41       | \n",
       "| Platform     |  825.86      | 199.39       | 444.44       | 130.71       |  51.01       | \n",
       "| Misc         |  790.94      | 210.60       | 399.57       | 107.02       |  73.10       | \n",
       "| Racing       |  723.70      | 234.49       | 356.86       |  56.63       |  75.51       | \n",
       "| Fighting     |  442.63      |  99.00       | 220.51       |  87.28       |  35.87       | \n",
       "| Simulation   |  388.11      | 113.35       | 180.40       |  63.64       |  30.57       | \n",
       "| Puzzle       |  240.33      |  49.78       | 121.13       |  56.68       |  12.30       | \n",
       "| Adventure    |  233.46      |  63.20       | 101.52       |  52.24       |  16.37       | \n",
       "| Strategy     |  172.85      |  44.79       |  67.75       |  49.30       |  10.73       | \n",
       "\n",
       "\n"
      ],
      "text/plain": [
       "   Genre        Global_Sales EU_Sales NA_Sales JP_Sales Other_Sales\n",
       "1  Action       1717.63      510.99   863.17   160.15   182.22     \n",
       "2  Sports       1310.39      371.33   671.20   134.93   132.21     \n",
       "3  Shooter      1041.83      314.52   584.83    38.68   103.33     \n",
       "4  Role-Playing  930.90      188.24   330.04   353.44    59.41     \n",
       "5  Platform      825.86      199.39   444.44   130.71    51.01     \n",
       "6  Misc          790.94      210.60   399.57   107.02    73.10     \n",
       "7  Racing        723.70      234.49   356.86    56.63    75.51     \n",
       "8  Fighting      442.63       99.00   220.51    87.28    35.87     \n",
       "9  Simulation    388.11      113.35   180.40    63.64    30.57     \n",
       "10 Puzzle        240.33       49.78   121.13    56.68    12.30     \n",
       "11 Adventure     233.46       63.20   101.52    52.24    16.37     \n",
       "12 Strategy      172.85       44.79    67.75    49.30    10.73     "
      ]
     },
     "metadata": {},
     "output_type": "display_data"
    }
   ],
   "source": [
    "sumgenresale <- aggregate(cbind(Global_Sales,EU_Sales,NA_Sales,JP_Sales,Other_Sales)~Genre, data=sales, FUN=sum)\n",
    "sumgenresale <- sumgenresale[order(-sumgenresale$Global_Sales),]\n",
    "rownames(sumgenresale) <- NULL\n",
    "head(sumgenresale, n=12)"
   ]
  },
  {
   "cell_type": "markdown",
   "metadata": {
    "_cell_guid": "b730cd5a-233f-85b7-05d2-7e1c7e9c1284"
   },
   "source": [
    "Platform games give us the best average result, whereas action games were sold the most, at least in this dataset\n",
    "\n",
    "**number of titles and standard deviation of global sales by genre**"
   ]
  },
  {
   "cell_type": "code",
   "execution_count": 27,
   "metadata": {
    "_cell_guid": "170fc4b9-870d-7a2e-f6af-cbfe36534db0"
   },
   "outputs": [
    {
     "data": {
      "text/html": [
       "<table>\n",
       "<thead><tr><th scope=col>Genre</th><th scope=col>number of titles</th><th scope=col>SD of Global Sales</th></tr></thead>\n",
       "<tbody>\n",
       "\t<tr><td>Action      </td><td>3308        </td><td>1.1535654   </td></tr>\n",
       "\t<tr><td>Sports      </td><td>2306        </td><td>2.0995978   </td></tr>\n",
       "\t<tr><td>Misc        </td><td>1721        </td><td>1.3129000   </td></tr>\n",
       "\t<tr><td>Role-Playing</td><td>1483        </td><td>1.7182147   </td></tr>\n",
       "\t<tr><td>Shooter     </td><td>1296        </td><td>1.8315427   </td></tr>\n",
       "\t<tr><td>Adventure   </td><td>1293        </td><td>0.5054228   </td></tr>\n",
       "\t<tr><td>Racing      </td><td>1226        </td><td>1.6708653   </td></tr>\n",
       "\t<tr><td>Platform    </td><td> 878        </td><td>2.5874935   </td></tr>\n",
       "\t<tr><td>Simulation  </td><td> 857        </td><td>1.1968766   </td></tr>\n",
       "\t<tr><td>Fighting    </td><td> 837        </td><td>0.9541694   </td></tr>\n",
       "\t<tr><td>Strategy    </td><td> 673        </td><td>0.5223017   </td></tr>\n",
       "\t<tr><td>Puzzle      </td><td> 569        </td><td>1.5770943   </td></tr>\n",
       "</tbody>\n",
       "</table>\n"
      ],
      "text/latex": [
       "\\begin{tabular}{r|lll}\n",
       " Genre & number of titles & SD of Global Sales\\\\\n",
       "\\hline\n",
       "\t Action       & 3308         & 1.1535654   \\\\\n",
       "\t Sports       & 2306         & 2.0995978   \\\\\n",
       "\t Misc         & 1721         & 1.3129000   \\\\\n",
       "\t Role-Playing & 1483         & 1.7182147   \\\\\n",
       "\t Shooter      & 1296         & 1.8315427   \\\\\n",
       "\t Adventure    & 1293         & 0.5054228   \\\\\n",
       "\t Racing       & 1226         & 1.6708653   \\\\\n",
       "\t Platform     &  878         & 2.5874935   \\\\\n",
       "\t Simulation   &  857         & 1.1968766   \\\\\n",
       "\t Fighting     &  837         & 0.9541694   \\\\\n",
       "\t Strategy     &  673         & 0.5223017   \\\\\n",
       "\t Puzzle       &  569         & 1.5770943   \\\\\n",
       "\\end{tabular}\n"
      ],
      "text/markdown": [
       "\n",
       "Genre | number of titles | SD of Global Sales | \n",
       "|---|---|---|---|---|---|---|---|---|---|---|---|\n",
       "| Action       | 3308         | 1.1535654    | \n",
       "| Sports       | 2306         | 2.0995978    | \n",
       "| Misc         | 1721         | 1.3129000    | \n",
       "| Role-Playing | 1483         | 1.7182147    | \n",
       "| Shooter      | 1296         | 1.8315427    | \n",
       "| Adventure    | 1293         | 0.5054228    | \n",
       "| Racing       | 1226         | 1.6708653    | \n",
       "| Platform     |  878         | 2.5874935    | \n",
       "| Simulation   |  857         | 1.1968766    | \n",
       "| Fighting     |  837         | 0.9541694    | \n",
       "| Strategy     |  673         | 0.5223017    | \n",
       "| Puzzle       |  569         | 1.5770943    | \n",
       "\n",
       "\n"
      ],
      "text/plain": [
       "   Genre        number of titles SD of Global Sales\n",
       "1  Action       3308             1.1535654         \n",
       "2  Sports       2306             2.0995978         \n",
       "3  Misc         1721             1.3129000         \n",
       "4  Role-Playing 1483             1.7182147         \n",
       "5  Shooter      1296             1.8315427         \n",
       "6  Adventure    1293             0.5054228         \n",
       "7  Racing       1226             1.6708653         \n",
       "8  Platform      878             2.5874935         \n",
       "9  Simulation    857             1.1968766         \n",
       "10 Fighting      837             0.9541694         \n",
       "11 Strategy      673             0.5223017         \n",
       "12 Puzzle        569             1.5770943         "
      ]
     },
     "metadata": {},
     "output_type": "display_data"
    }
   ],
   "source": [
    "temp1 <- aggregate(Global_Sales~Genre, data=sales, FUN=length)\n",
    "temp2 <- aggregate(Global_Sales~Genre, data=sales, FUN=sd)\n",
    "\n",
    "colnames(temp1)[2] <- \"number of titles\"\n",
    "colnames(temp2)[2] <- \"SD of Global Sales\"\n",
    "\n",
    "temp3 <- merge(temp1,temp2, id=\"Genre\")\n",
    "temp3 <- temp3[order(-temp3[2]),]\n",
    "rownames(temp3) <- NULL\n",
    "temp3"
   ]
  },
  {
   "cell_type": "markdown",
   "metadata": {
    "_cell_guid": "8e9d19c5-1a2e-8f58-cf55-295f65e10275"
   },
   "source": [
    "Platform games do also have the highest deviation."
   ]
  },
  {
   "cell_type": "markdown",
   "metadata": {
    "_cell_guid": "28e2ef97-ddd0-29b8-9424-03877472f621"
   },
   "source": [
    "Investigation of Global Sales Rating\n",
    "---------------------------------------------------\n",
    "Right now im ignoring the fact, that the ESRB Rating relates to the USA.  "
   ]
  },
  {
   "cell_type": "markdown",
   "metadata": {
    "_cell_guid": "cc906006-cfb5-9310-dbf2-f84ae0c005a9"
   },
   "source": [
    "**Mean of sales by rating, sorted by the mean of global sales**"
   ]
  },
  {
   "cell_type": "code",
   "execution_count": 28,
   "metadata": {
    "_cell_guid": "94f633e5-137b-277e-6cd7-0ab8ccfc89f4"
   },
   "outputs": [
    {
     "data": {
      "text/html": [
       "<table>\n",
       "<thead><tr><th scope=col>Rating</th><th scope=col>Global_Sales</th><th scope=col>EU_Sales</th><th scope=col>NA_Sales</th><th scope=col>JP_Sales</th><th scope=col>Other_Sales</th></tr></thead>\n",
       "<tbody>\n",
       "\t<tr><td>AO        </td><td>1.9500000 </td><td>0.6100000 </td><td>1.2600000 </td><td>0.00000000</td><td>0.09000000</td></tr>\n",
       "\t<tr><td>M         </td><td>0.9522135 </td><td>0.3125000 </td><td>0.4836523 </td><td>0.04139323</td><td>0.11462240</td></tr>\n",
       "\t<tr><td>E         </td><td>0.6149337 </td><td>0.1794444 </td><td>0.3253823 </td><td>0.05082059</td><td>0.05901376</td></tr>\n",
       "\t<tr><td>T         </td><td>0.5074458 </td><td>0.1451945 </td><td>0.2573494 </td><td>0.05187608</td><td>0.05266437</td></tr>\n",
       "\t<tr><td>E10+      </td><td>0.4603015 </td><td>0.1316224 </td><td>0.2480258 </td><td>0.02885858</td><td>0.05163676</td></tr>\n",
       "\t<tr><td>EC        </td><td>0.2225000 </td><td>0.0137500 </td><td>0.1912500 </td><td>0.00000000</td><td>0.01375000</td></tr>\n",
       "</tbody>\n",
       "</table>\n"
      ],
      "text/latex": [
       "\\begin{tabular}{r|llllll}\n",
       " Rating & Global\\_Sales & EU\\_Sales & NA\\_Sales & JP\\_Sales & Other\\_Sales\\\\\n",
       "\\hline\n",
       "\t AO         & 1.9500000  & 0.6100000  & 1.2600000  & 0.00000000 & 0.09000000\\\\\n",
       "\t M          & 0.9522135  & 0.3125000  & 0.4836523  & 0.04139323 & 0.11462240\\\\\n",
       "\t E          & 0.6149337  & 0.1794444  & 0.3253823  & 0.05082059 & 0.05901376\\\\\n",
       "\t T          & 0.5074458  & 0.1451945  & 0.2573494  & 0.05187608 & 0.05266437\\\\\n",
       "\t E10+       & 0.4603015  & 0.1316224  & 0.2480258  & 0.02885858 & 0.05163676\\\\\n",
       "\t EC         & 0.2225000  & 0.0137500  & 0.1912500  & 0.00000000 & 0.01375000\\\\\n",
       "\\end{tabular}\n"
      ],
      "text/markdown": [
       "\n",
       "Rating | Global_Sales | EU_Sales | NA_Sales | JP_Sales | Other_Sales | \n",
       "|---|---|---|---|---|---|\n",
       "| AO         | 1.9500000  | 0.6100000  | 1.2600000  | 0.00000000 | 0.09000000 | \n",
       "| M          | 0.9522135  | 0.3125000  | 0.4836523  | 0.04139323 | 0.11462240 | \n",
       "| E          | 0.6149337  | 0.1794444  | 0.3253823  | 0.05082059 | 0.05901376 | \n",
       "| T          | 0.5074458  | 0.1451945  | 0.2573494  | 0.05187608 | 0.05266437 | \n",
       "| E10+       | 0.4603015  | 0.1316224  | 0.2480258  | 0.02885858 | 0.05163676 | \n",
       "| EC         | 0.2225000  | 0.0137500  | 0.1912500  | 0.00000000 | 0.01375000 | \n",
       "\n",
       "\n"
      ],
      "text/plain": [
       "  Rating Global_Sales EU_Sales  NA_Sales  JP_Sales   Other_Sales\n",
       "1 AO     1.9500000    0.6100000 1.2600000 0.00000000 0.09000000 \n",
       "2 M      0.9522135    0.3125000 0.4836523 0.04139323 0.11462240 \n",
       "3 E      0.6149337    0.1794444 0.3253823 0.05082059 0.05901376 \n",
       "4 T      0.5074458    0.1451945 0.2573494 0.05187608 0.05266437 \n",
       "5 E10+   0.4603015    0.1316224 0.2480258 0.02885858 0.05163676 \n",
       "6 EC     0.2225000    0.0137500 0.1912500 0.00000000 0.01375000 "
      ]
     },
     "metadata": {},
     "output_type": "display_data"
    }
   ],
   "source": [
    "meanratingsale <- aggregate(cbind(Global_Sales,EU_Sales,NA_Sales,JP_Sales,Other_Sales)~Rating, data=sales, FUN=mean)\n",
    "meanratingsale <- meanratingsale[order(-meanratingsale$Global_Sales),]\n",
    "rownames(meanratingsale) <- NULL\n",
    "head(meanratingsale, n=10)"
   ]
  },
  {
   "cell_type": "markdown",
   "metadata": {
    "_cell_guid": "e34fad19-ffad-6472-5cb3-f76823faa224"
   },
   "source": [
    "Adults Only games perform best    \n",
    "The Order for Global_Sales, NA_Sales and EU_Sales are the same.  \n",
    "\n",
    "**number of titles and standard deviation of global sales by rating**  \n",
    "\n",
    "Let us have a look on the standard deviation here."
   ]
  },
  {
   "cell_type": "code",
   "execution_count": 29,
   "metadata": {
    "_cell_guid": "f9082f1d-8fc4-e39d-b54f-f4e8e7e8a65f"
   },
   "outputs": [
    {
     "data": {
      "text/html": [
       "<table>\n",
       "<thead><tr><th scope=col>Rating</th><th scope=col>number of titles</th><th scope=col>SD of Global Sales</th></tr></thead>\n",
       "<tbody>\n",
       "\t<tr><td>E        </td><td>3924     </td><td>2.1444741</td></tr>\n",
       "\t<tr><td>T        </td><td>2905     </td><td>0.9145742</td></tr>\n",
       "\t<tr><td>M        </td><td>1536     </td><td>1.9417434</td></tr>\n",
       "\t<tr><td>E10+     </td><td>1393     </td><td>0.7979799</td></tr>\n",
       "\t<tr><td>EC       </td><td>   8     </td><td>0.1473334</td></tr>\n",
       "\t<tr><td>AO       </td><td>   1     </td><td>       NA</td></tr>\n",
       "</tbody>\n",
       "</table>\n"
      ],
      "text/latex": [
       "\\begin{tabular}{r|lll}\n",
       " Rating & number of titles & SD of Global Sales\\\\\n",
       "\\hline\n",
       "\t E         & 3924      & 2.1444741\\\\\n",
       "\t T         & 2905      & 0.9145742\\\\\n",
       "\t M         & 1536      & 1.9417434\\\\\n",
       "\t E10+      & 1393      & 0.7979799\\\\\n",
       "\t EC        &    8      & 0.1473334\\\\\n",
       "\t AO        &    1      &        NA\\\\\n",
       "\\end{tabular}\n"
      ],
      "text/markdown": [
       "\n",
       "Rating | number of titles | SD of Global Sales | \n",
       "|---|---|---|---|---|---|\n",
       "| E         | 3924      | 2.1444741 | \n",
       "| T         | 2905      | 0.9145742 | \n",
       "| M         | 1536      | 1.9417434 | \n",
       "| E10+      | 1393      | 0.7979799 | \n",
       "| EC        |    8      | 0.1473334 | \n",
       "| AO        |    1      |        NA | \n",
       "\n",
       "\n"
      ],
      "text/plain": [
       "  Rating number of titles SD of Global Sales\n",
       "1 E      3924             2.1444741         \n",
       "2 T      2905             0.9145742         \n",
       "3 M      1536             1.9417434         \n",
       "4 E10+   1393             0.7979799         \n",
       "5 EC        8             0.1473334         \n",
       "6 AO        1                    NA         "
      ]
     },
     "metadata": {},
     "output_type": "display_data"
    }
   ],
   "source": [
    "temp1 <- aggregate(Global_Sales~Rating, data=sales, FUN=length)\n",
    "temp2 <- aggregate(Global_Sales~Rating, data=sales, FUN=sd)\n",
    "\n",
    "colnames(temp1)[2] <- \"number of titles\"\n",
    "colnames(temp2)[2] <- \"SD of Global Sales\"\n",
    "\n",
    "temp3 <- merge(temp1,temp2, id=\"Rating\")\n",
    "temp3 <- temp3[order(-temp3[2]),]\n",
    "rownames(temp3) <- NULL\n",
    "temp3"
   ]
  },
  {
   "cell_type": "markdown",
   "metadata": {
    "_cell_guid": "1eca825d-af21-70e7-9dc7-eaf5e0912e7d"
   },
   "source": [
    "Aah. Not much to learn from here. M seems to deviate more than E10+ Titles. \n",
    "Also E deviates more than T."
   ]
  },
  {
   "cell_type": "markdown",
   "metadata": {
    "_cell_guid": "0c6c46c3-64ac-c5b4-0038-295a05ab0c77"
   },
   "source": [
    "preliminary result\n",
    "------------------\n",
    "\n",
    "The dataset is not reliable as of now. \n",
    "Guesstimation: The best subset of this dataset would be the seventh generation of home consoles.  DS vs PSP may also be fine.\n",
    "Also 0 sales should be considered NA. The Median of JP Sales is even 0. So using only NA_Sales and maybe EU_Sales sales may give us some more insight."
   ]
  },
  {
   "cell_type": "code",
   "execution_count": 30,
   "metadata": {
    "_cell_guid": "affe71a8-374a-ab43-e3ec-3d21c4b67119",
    "collapsed": true
   },
   "outputs": [],
   "source": [
    "sales <- sales[(sales$Platform %in% seventhgen), \n",
    "               !(names(sales) %in% c(\"Other_Sales\", \"Global_Sales\", \"JP_Sales\", \"EU_Sales\" ) )]\n",
    "sales[sales$NA_Sales == 0,] <- NA\n",
    "sales <- sales[complete.cases(sales),]\n",
    "sales$Platform <- factor(sales$Platform)\n",
    "sales$Developer <- factor(sales$Developer)\n",
    "sales$Name <- factor(sales$Name)"
   ]
  },
  {
   "cell_type": "markdown",
   "metadata": {
    "_cell_guid": "bf924995-a528-e48b-5911-0983d574f259"
   },
   "source": [
    "Adding First Party Publishers to the dataset"
   ]
  },
  {
   "cell_type": "code",
   "execution_count": 31,
   "metadata": {
    "_cell_guid": "f297390f-e3e4-4c76-865a-6c966bca75e9",
    "collapsed": true
   },
   "outputs": [],
   "source": [
    "sonypublishers <- c(\"Sony Computer Entertainment\",\"Sony Computer Entertainment America\",\n",
    "                                                            \"Sony Computer Entertainment Europe\",\n",
    "                                                            \"Sony Music Entertainment\",\n",
    "                                                            \"Sony Online Entertainment\")\n",
    "sales$FP <- FALSE\n",
    "sales$FP[(sales$Publisher %in% sonypublishers) & (sales$Platform == \"PS3\")] <- TRUE\n",
    "sales$FP[(sales$Publisher %in% 'Microsoft Game Studios') & (sales$Platform %in% 'X360')] <- TRUE\n",
    "sales$FP[(sales$Publisher %in% \"Nintendo\") & (sales$Platform %in% \"Wii\")] <- TRUE"
   ]
  },
  {
   "cell_type": "markdown",
   "metadata": {
    "_cell_guid": "d3ed049c-cd52-b605-4398-8cc171069b09"
   },
   "source": [
    "Adding First party developers to the dataset"
   ]
  },
  {
   "cell_type": "code",
   "execution_count": 32,
   "metadata": {
    "_cell_guid": "5290a0dc-49d8-7260-fd5c-10704c9a63e4"
   },
   "outputs": [
    {
     "name": "stdout",
     "output_type": "stream",
     "text": [
      "Not finished"
     ]
    },
    {
     "data": {
      "text/html": [
       "<table>\n",
       "<thead><tr><th></th><th scope=col>Name</th><th scope=col>Platform</th><th scope=col>Year_of_Release</th><th scope=col>Genre</th><th scope=col>Publisher</th><th scope=col>NA_Sales</th><th scope=col>Critic_Score</th><th scope=col>Critic_Count</th><th scope=col>User_Score</th><th scope=col>User_Count</th><th scope=col>Developer</th><th scope=col>Rating</th><th scope=col>Ratingn</th><th scope=col>Platformvendor</th><th scope=col>FP</th></tr></thead>\n",
       "<tbody>\n",
       "\t<tr><th scope=row>1</th><td>Wii Sports                       </td><td>Wii                              </td><td>2006                             </td><td>Sports                           </td><td>Nintendo                         </td><td>41.36                            </td><td>76                               </td><td> 51                              </td><td>8.0                              </td><td> 322                             </td><td>Nintendo                         </td><td>E                                </td><td>2                                </td><td>nintendo                         </td><td> TRUE                            </td></tr>\n",
       "\t<tr><th scope=row>3</th><td>Mario Kart Wii                   </td><td>Wii                              </td><td>2008                             </td><td>Racing                           </td><td>Nintendo                         </td><td>15.68                            </td><td>82                               </td><td> 73                              </td><td>8.3                              </td><td> 709                             </td><td>Nintendo                         </td><td>E                                </td><td>2                                </td><td>nintendo                         </td><td> TRUE                            </td></tr>\n",
       "\t<tr><th scope=row>4</th><td>Wii Sports Resort                </td><td>Wii                              </td><td>2009                             </td><td>Sports                           </td><td>Nintendo                         </td><td>15.61                            </td><td>80                               </td><td> 73                              </td><td>8.0                              </td><td> 192                             </td><td>Nintendo                         </td><td>E                                </td><td>2                                </td><td>nintendo                         </td><td> TRUE                            </td></tr>\n",
       "\t<tr><th scope=row>8</th><td>Wii Play                         </td><td>Wii                              </td><td>2006                             </td><td>Misc                             </td><td>Nintendo                         </td><td>13.96                            </td><td>58                               </td><td> 41                              </td><td>6.6                              </td><td> 129                             </td><td>Nintendo                         </td><td>E                                </td><td>2                                </td><td>nintendo                         </td><td> TRUE                            </td></tr>\n",
       "\t<tr><th scope=row>9</th><td>New Super Mario Bros. Wii        </td><td>Wii                              </td><td>2009                             </td><td>Platform                         </td><td>Nintendo                         </td><td>14.44                            </td><td>87                               </td><td> 80                              </td><td>8.4                              </td><td> 594                             </td><td>Nintendo                         </td><td>E                                </td><td>2                                </td><td>nintendo                         </td><td> TRUE                            </td></tr>\n",
       "\t<tr><th scope=row>14</th><td>Wii Fit                          </td><td>Wii                              </td><td>2007                             </td><td>Sports                           </td><td>Nintendo                         </td><td> 8.92                            </td><td>80                               </td><td> 63                              </td><td>7.7                              </td><td> 146                             </td><td>Nintendo                         </td><td>E                                </td><td>2                                </td><td>nintendo                         </td><td> TRUE                            </td></tr>\n",
       "\t<tr><th scope=row>15</th><td>Kinect Adventures!               </td><td>X360                             </td><td>2010                             </td><td>Misc                             </td><td>Microsoft Game Studios           </td><td>15.00                            </td><td>61                               </td><td> 45                              </td><td>6.3                              </td><td> 106                             </td><td>Good Science Studio              </td><td>E                                </td><td>2                                </td><td>microsoft                        </td><td> TRUE                            </td></tr>\n",
       "\t<tr><th scope=row>16</th><td>Wii Fit Plus                     </td><td>Wii                              </td><td>2009                             </td><td>Sports                           </td><td>Nintendo                         </td><td> 9.01                            </td><td>80                               </td><td> 33                              </td><td>7.4                              </td><td>  52                             </td><td>Nintendo                         </td><td>E                                </td><td>2                                </td><td>nintendo                         </td><td> TRUE                            </td></tr>\n",
       "\t<tr><th scope=row>17</th><td>Grand Theft Auto V               </td><td>PS3                              </td><td>2013                             </td><td>Action                           </td><td>Take-Two Interactive             </td><td> 7.02                            </td><td>97                               </td><td> 50                              </td><td>8.2                              </td><td>3994                             </td><td>Rockstar North                   </td><td>M                                </td><td>5                                </td><td>sony                             </td><td>FALSE                            </td></tr>\n",
       "\t<tr><th scope=row>24</th><td>Grand Theft Auto V               </td><td>X360                             </td><td>2013                             </td><td>Action                           </td><td>Take-Two Interactive             </td><td> 9.66                            </td><td>97                               </td><td> 58                              </td><td>8.1                              </td><td>3711                             </td><td>Rockstar North                   </td><td>M                                </td><td>5                                </td><td>microsoft                        </td><td>FALSE                            </td></tr>\n",
       "\t<tr><th scope=row>30</th><td>Call of Duty: Modern Warfare 3   </td><td>X360                             </td><td>2011                             </td><td>Shooter                          </td><td>Activision                       </td><td> 9.04                            </td><td>88                               </td><td> 81                              </td><td>3.4                              </td><td>8713                             </td><td>Infinity Ward, Sledgehammer Games</td><td>M                                </td><td>5                                </td><td>microsoft                        </td><td>FALSE                            </td></tr>\n",
       "\t<tr><th scope=row>33</th><td>Call of Duty: Black Ops          </td><td>X360                             </td><td>2010                             </td><td>Shooter                          </td><td>Activision                       </td><td> 9.70                            </td><td>87                               </td><td> 89                              </td><td>6.3                              </td><td>1454                             </td><td>Treyarch                         </td><td>M                                </td><td>5                                </td><td>microsoft                        </td><td>FALSE                            </td></tr>\n",
       "\t<tr><th scope=row>35</th><td>Call of Duty: Black Ops II       </td><td>PS3                              </td><td>2012                             </td><td>Shooter                          </td><td>Activision                       </td><td> 4.99                            </td><td>83                               </td><td> 21                              </td><td>5.3                              </td><td> 922                             </td><td>Treyarch                         </td><td>M                                </td><td>5                                </td><td>sony                             </td><td>FALSE                            </td></tr>\n",
       "\t<tr><th scope=row>36</th><td>Call of Duty: Black Ops II       </td><td>X360                             </td><td>2012                             </td><td>Shooter                          </td><td>Activision                       </td><td> 8.25                            </td><td>83                               </td><td> 73                              </td><td>4.8                              </td><td>2256                             </td><td>Treyarch                         </td><td>M                                </td><td>5                                </td><td>microsoft                        </td><td>FALSE                            </td></tr>\n",
       "\t<tr><th scope=row>37</th><td>Call of Duty: Modern Warfare 2   </td><td>X360                             </td><td>2009                             </td><td>Shooter                          </td><td>Activision                       </td><td> 8.52                            </td><td>94                               </td><td>100                              </td><td>6.3                              </td><td>2698                             </td><td>Infinity Ward                    </td><td>M                                </td><td>5                                </td><td>microsoft                        </td><td>FALSE                            </td></tr>\n",
       "</tbody>\n",
       "</table>\n"
      ],
      "text/latex": [
       "\\begin{tabular}{r|lllllllllllllll}\n",
       "  & Name & Platform & Year\\_of\\_Release & Genre & Publisher & NA\\_Sales & Critic\\_Score & Critic\\_Count & User\\_Score & User\\_Count & Developer & Rating & Ratingn & Platformvendor & FP\\\\\n",
       "\\hline\n",
       "\t1 & Wii Sports                        & Wii                               & 2006                              & Sports                            & Nintendo                          & 41.36                             & 76                                &  51                               & 8.0                               &  322                              & Nintendo                          & E                                 & 2                                 & nintendo                          &  TRUE                            \\\\\n",
       "\t3 & Mario Kart Wii                    & Wii                               & 2008                              & Racing                            & Nintendo                          & 15.68                             & 82                                &  73                               & 8.3                               &  709                              & Nintendo                          & E                                 & 2                                 & nintendo                          &  TRUE                            \\\\\n",
       "\t4 & Wii Sports Resort                 & Wii                               & 2009                              & Sports                            & Nintendo                          & 15.61                             & 80                                &  73                               & 8.0                               &  192                              & Nintendo                          & E                                 & 2                                 & nintendo                          &  TRUE                            \\\\\n",
       "\t8 & Wii Play                          & Wii                               & 2006                              & Misc                              & Nintendo                          & 13.96                             & 58                                &  41                               & 6.6                               &  129                              & Nintendo                          & E                                 & 2                                 & nintendo                          &  TRUE                            \\\\\n",
       "\t9 & New Super Mario Bros. Wii         & Wii                               & 2009                              & Platform                          & Nintendo                          & 14.44                             & 87                                &  80                               & 8.4                               &  594                              & Nintendo                          & E                                 & 2                                 & nintendo                          &  TRUE                            \\\\\n",
       "\t14 & Wii Fit                           & Wii                               & 2007                              & Sports                            & Nintendo                          &  8.92                             & 80                                &  63                               & 7.7                               &  146                              & Nintendo                          & E                                 & 2                                 & nintendo                          &  TRUE                            \\\\\n",
       "\t15 & Kinect Adventures!                & X360                              & 2010                              & Misc                              & Microsoft Game Studios            & 15.00                             & 61                                &  45                               & 6.3                               &  106                              & Good Science Studio               & E                                 & 2                                 & microsoft                         &  TRUE                            \\\\\n",
       "\t16 & Wii Fit Plus                      & Wii                               & 2009                              & Sports                            & Nintendo                          &  9.01                             & 80                                &  33                               & 7.4                               &   52                              & Nintendo                          & E                                 & 2                                 & nintendo                          &  TRUE                            \\\\\n",
       "\t17 & Grand Theft Auto V                & PS3                               & 2013                              & Action                            & Take-Two Interactive              &  7.02                             & 97                                &  50                               & 8.2                               & 3994                              & Rockstar North                    & M                                 & 5                                 & sony                              & FALSE                            \\\\\n",
       "\t24 & Grand Theft Auto V                & X360                              & 2013                              & Action                            & Take-Two Interactive              &  9.66                             & 97                                &  58                               & 8.1                               & 3711                              & Rockstar North                    & M                                 & 5                                 & microsoft                         & FALSE                            \\\\\n",
       "\t30 & Call of Duty: Modern Warfare 3    & X360                              & 2011                              & Shooter                           & Activision                        &  9.04                             & 88                                &  81                               & 3.4                               & 8713                              & Infinity Ward, Sledgehammer Games & M                                 & 5                                 & microsoft                         & FALSE                            \\\\\n",
       "\t33 & Call of Duty: Black Ops           & X360                              & 2010                              & Shooter                           & Activision                        &  9.70                             & 87                                &  89                               & 6.3                               & 1454                              & Treyarch                          & M                                 & 5                                 & microsoft                         & FALSE                            \\\\\n",
       "\t35 & Call of Duty: Black Ops II        & PS3                               & 2012                              & Shooter                           & Activision                        &  4.99                             & 83                                &  21                               & 5.3                               &  922                              & Treyarch                          & M                                 & 5                                 & sony                              & FALSE                            \\\\\n",
       "\t36 & Call of Duty: Black Ops II        & X360                              & 2012                              & Shooter                           & Activision                        &  8.25                             & 83                                &  73                               & 4.8                               & 2256                              & Treyarch                          & M                                 & 5                                 & microsoft                         & FALSE                            \\\\\n",
       "\t37 & Call of Duty: Modern Warfare 2    & X360                              & 2009                              & Shooter                           & Activision                        &  8.52                             & 94                                & 100                               & 6.3                               & 2698                              & Infinity Ward                     & M                                 & 5                                 & microsoft                         & FALSE                            \\\\\n",
       "\\end{tabular}\n"
      ],
      "text/markdown": [
       "\n",
       "| <!--/--> | Name | Platform | Year_of_Release | Genre | Publisher | NA_Sales | Critic_Score | Critic_Count | User_Score | User_Count | Developer | Rating | Ratingn | Platformvendor | FP | \n",
       "|---|---|---|---|---|---|---|---|---|---|---|---|---|---|---|\n",
       "| 1 | Wii Sports                        | Wii                               | 2006                              | Sports                            | Nintendo                          | 41.36                             | 76                                |  51                               | 8.0                               |  322                              | Nintendo                          | E                                 | 2                                 | nintendo                          |  TRUE                             | \n",
       "| 3 | Mario Kart Wii                    | Wii                               | 2008                              | Racing                            | Nintendo                          | 15.68                             | 82                                |  73                               | 8.3                               |  709                              | Nintendo                          | E                                 | 2                                 | nintendo                          |  TRUE                             | \n",
       "| 4 | Wii Sports Resort                 | Wii                               | 2009                              | Sports                            | Nintendo                          | 15.61                             | 80                                |  73                               | 8.0                               |  192                              | Nintendo                          | E                                 | 2                                 | nintendo                          |  TRUE                             | \n",
       "| 8 | Wii Play                          | Wii                               | 2006                              | Misc                              | Nintendo                          | 13.96                             | 58                                |  41                               | 6.6                               |  129                              | Nintendo                          | E                                 | 2                                 | nintendo                          |  TRUE                             | \n",
       "| 9 | New Super Mario Bros. Wii         | Wii                               | 2009                              | Platform                          | Nintendo                          | 14.44                             | 87                                |  80                               | 8.4                               |  594                              | Nintendo                          | E                                 | 2                                 | nintendo                          |  TRUE                             | \n",
       "| 14 | Wii Fit                           | Wii                               | 2007                              | Sports                            | Nintendo                          |  8.92                             | 80                                |  63                               | 7.7                               |  146                              | Nintendo                          | E                                 | 2                                 | nintendo                          |  TRUE                             | \n",
       "| 15 | Kinect Adventures!                | X360                              | 2010                              | Misc                              | Microsoft Game Studios            | 15.00                             | 61                                |  45                               | 6.3                               |  106                              | Good Science Studio               | E                                 | 2                                 | microsoft                         |  TRUE                             | \n",
       "| 16 | Wii Fit Plus                      | Wii                               | 2009                              | Sports                            | Nintendo                          |  9.01                             | 80                                |  33                               | 7.4                               |   52                              | Nintendo                          | E                                 | 2                                 | nintendo                          |  TRUE                             | \n",
       "| 17 | Grand Theft Auto V                | PS3                               | 2013                              | Action                            | Take-Two Interactive              |  7.02                             | 97                                |  50                               | 8.2                               | 3994                              | Rockstar North                    | M                                 | 5                                 | sony                              | FALSE                             | \n",
       "| 24 | Grand Theft Auto V                | X360                              | 2013                              | Action                            | Take-Two Interactive              |  9.66                             | 97                                |  58                               | 8.1                               | 3711                              | Rockstar North                    | M                                 | 5                                 | microsoft                         | FALSE                             | \n",
       "| 30 | Call of Duty: Modern Warfare 3    | X360                              | 2011                              | Shooter                           | Activision                        |  9.04                             | 88                                |  81                               | 3.4                               | 8713                              | Infinity Ward, Sledgehammer Games | M                                 | 5                                 | microsoft                         | FALSE                             | \n",
       "| 33 | Call of Duty: Black Ops           | X360                              | 2010                              | Shooter                           | Activision                        |  9.70                             | 87                                |  89                               | 6.3                               | 1454                              | Treyarch                          | M                                 | 5                                 | microsoft                         | FALSE                             | \n",
       "| 35 | Call of Duty: Black Ops II        | PS3                               | 2012                              | Shooter                           | Activision                        |  4.99                             | 83                                |  21                               | 5.3                               |  922                              | Treyarch                          | M                                 | 5                                 | sony                              | FALSE                             | \n",
       "| 36 | Call of Duty: Black Ops II        | X360                              | 2012                              | Shooter                           | Activision                        |  8.25                             | 83                                |  73                               | 4.8                               | 2256                              | Treyarch                          | M                                 | 5                                 | microsoft                         | FALSE                             | \n",
       "| 37 | Call of Duty: Modern Warfare 2    | X360                              | 2009                              | Shooter                           | Activision                        |  8.52                             | 94                                | 100                               | 6.3                               | 2698                              | Infinity Ward                     | M                                 | 5                                 | microsoft                         | FALSE                             | \n",
       "\n",
       "\n"
      ],
      "text/plain": [
       "   Name                           Platform Year_of_Release Genre   \n",
       "1  Wii Sports                     Wii      2006            Sports  \n",
       "3  Mario Kart Wii                 Wii      2008            Racing  \n",
       "4  Wii Sports Resort              Wii      2009            Sports  \n",
       "8  Wii Play                       Wii      2006            Misc    \n",
       "9  New Super Mario Bros. Wii      Wii      2009            Platform\n",
       "14 Wii Fit                        Wii      2007            Sports  \n",
       "15 Kinect Adventures!             X360     2010            Misc    \n",
       "16 Wii Fit Plus                   Wii      2009            Sports  \n",
       "17 Grand Theft Auto V             PS3      2013            Action  \n",
       "24 Grand Theft Auto V             X360     2013            Action  \n",
       "30 Call of Duty: Modern Warfare 3 X360     2011            Shooter \n",
       "33 Call of Duty: Black Ops        X360     2010            Shooter \n",
       "35 Call of Duty: Black Ops II     PS3      2012            Shooter \n",
       "36 Call of Duty: Black Ops II     X360     2012            Shooter \n",
       "37 Call of Duty: Modern Warfare 2 X360     2009            Shooter \n",
       "   Publisher              NA_Sales Critic_Score Critic_Count User_Score\n",
       "1  Nintendo               41.36    76            51          8.0       \n",
       "3  Nintendo               15.68    82            73          8.3       \n",
       "4  Nintendo               15.61    80            73          8.0       \n",
       "8  Nintendo               13.96    58            41          6.6       \n",
       "9  Nintendo               14.44    87            80          8.4       \n",
       "14 Nintendo                8.92    80            63          7.7       \n",
       "15 Microsoft Game Studios 15.00    61            45          6.3       \n",
       "16 Nintendo                9.01    80            33          7.4       \n",
       "17 Take-Two Interactive    7.02    97            50          8.2       \n",
       "24 Take-Two Interactive    9.66    97            58          8.1       \n",
       "30 Activision              9.04    88            81          3.4       \n",
       "33 Activision              9.70    87            89          6.3       \n",
       "35 Activision              4.99    83            21          5.3       \n",
       "36 Activision              8.25    83            73          4.8       \n",
       "37 Activision              8.52    94           100          6.3       \n",
       "   User_Count Developer                         Rating Ratingn Platformvendor\n",
       "1   322       Nintendo                          E      2       nintendo      \n",
       "3   709       Nintendo                          E      2       nintendo      \n",
       "4   192       Nintendo                          E      2       nintendo      \n",
       "8   129       Nintendo                          E      2       nintendo      \n",
       "9   594       Nintendo                          E      2       nintendo      \n",
       "14  146       Nintendo                          E      2       nintendo      \n",
       "15  106       Good Science Studio               E      2       microsoft     \n",
       "16   52       Nintendo                          E      2       nintendo      \n",
       "17 3994       Rockstar North                    M      5       sony          \n",
       "24 3711       Rockstar North                    M      5       microsoft     \n",
       "30 8713       Infinity Ward, Sledgehammer Games M      5       microsoft     \n",
       "33 1454       Treyarch                          M      5       microsoft     \n",
       "35  922       Treyarch                          M      5       sony          \n",
       "36 2256       Treyarch                          M      5       microsoft     \n",
       "37 2698       Infinity Ward                     M      5       microsoft     \n",
       "   FP   \n",
       "1   TRUE\n",
       "3   TRUE\n",
       "4   TRUE\n",
       "8   TRUE\n",
       "9   TRUE\n",
       "14  TRUE\n",
       "15  TRUE\n",
       "16  TRUE\n",
       "17 FALSE\n",
       "24 FALSE\n",
       "30 FALSE\n",
       "33 FALSE\n",
       "35 FALSE\n",
       "36 FALSE\n",
       "37 FALSE"
      ]
     },
     "metadata": {},
     "output_type": "display_data"
    }
   ],
   "source": [
    "sonydevs <- c('Sony Online Entertainment', 'Polyphony Digital','SCE Japan Studio',\n",
    "              'SCE Santa Monica','SCE Studio Cambridge','SCE/WWS, Media Molecule',\n",
    "              'SCEA San Diego Studios','SCEA','SCEA, Zindagi Games', 'SCEE',\n",
    "              'SCEE London Studio','SCEJ','Guerrilla')\n",
    "cat (\"Not finished\")\n",
    "head(sales,15)"
   ]
  },
  {
   "cell_type": "markdown",
   "metadata": {
    "_cell_guid": "21ef386f-561d-12c1-7536-9fd7f67aff56"
   },
   "source": [
    "Building Models for the 7th generation\n",
    "--------------------------------------"
   ]
  },
  {
   "cell_type": "markdown",
   "metadata": {
    "_cell_guid": "372c5c84-ed57-5489-1e0c-00d66ac66f86"
   },
   "source": [
    "We want to see which variable is the most importent for the North American Sales of a platform.\n",
    "We will build a log-linear model and a random forest for each platform."
   ]
  },
  {
   "cell_type": "markdown",
   "metadata": {
    "_cell_guid": "20247147-14a9-c8c7-ac6f-023304367dc8"
   },
   "source": [
    "Splitting in test and train data\n",
    "----------------------------"
   ]
  },
  {
   "cell_type": "code",
   "execution_count": 33,
   "metadata": {
    "_cell_guid": "884de15a-49e6-412d-dcb8-9a363622d7c7"
   },
   "outputs": [
    {
     "data": {
      "text/html": [
       "518"
      ],
      "text/latex": [
       "518"
      ],
      "text/markdown": [
       "518"
      ],
      "text/plain": [
       "[1] 518"
      ]
     },
     "metadata": {},
     "output_type": "display_data"
    }
   ],
   "source": [
    "set.seed(123)\n",
    "ps3set <- subset(sales, Platform==\"PS3\")\n",
    "index <- sample(1:nrow(ps3set),size = 0.7*nrow(ps3set)) \n",
    "ps3set.train <- ps3set[index,]\n",
    "ps3set.test <- ps3set[-index,]\n",
    "nrow(ps3set.train)"
   ]
  },
  {
   "cell_type": "code",
   "execution_count": 34,
   "metadata": {
    "_cell_guid": "c7e8e2ce-f1c0-d7d0-f39f-07c21151a201"
   },
   "outputs": [
    {
     "data": {
      "text/html": [
       "335"
      ],
      "text/latex": [
       "335"
      ],
      "text/markdown": [
       "335"
      ],
      "text/plain": [
       "[1] 335"
      ]
     },
     "metadata": {},
     "output_type": "display_data"
    }
   ],
   "source": [
    "wiiset <- subset(sales, Platform==\"Wii\")\n",
    "index <- sample(1:nrow(wiiset),size = 0.7 * nrow(wiiset)) \n",
    "wiiset.train <- wiiset[index,]\n",
    "wiiset.test <- wiiset[-index,]\n",
    "nrow(wiiset.train)"
   ]
  },
  {
   "cell_type": "code",
   "execution_count": 35,
   "metadata": {
    "_cell_guid": "5c81b96a-16b0-522d-9548-be1dd4b19b64"
   },
   "outputs": [
    {
     "data": {
      "text/html": [
       "595"
      ],
      "text/latex": [
       "595"
      ],
      "text/markdown": [
       "595"
      ],
      "text/plain": [
       "[1] 595"
      ]
     },
     "metadata": {},
     "output_type": "display_data"
    }
   ],
   "source": [
    "x360set <- subset(sales, Platform==\"X360\")\n",
    "index <- sample(1:nrow(x360set),size = 0.7 * nrow(x360set)) \n",
    "x360set.train <- x360set[index,]\n",
    "x360set.test <- x360set[-index,]\n",
    "nrow(x360set.train)"
   ]
  },
  {
   "cell_type": "markdown",
   "metadata": {
    "_cell_guid": "adc70cc2-b7ba-cbf0-36e2-a3eff5f2735a"
   },
   "source": [
    "Building log linear models\n",
    "----------------------------\n",
    "Linear models will be reevaluated after the first build"
   ]
  },
  {
   "cell_type": "code",
   "execution_count": 36,
   "metadata": {
    "_cell_guid": "10201c2d-8e34-c360-262d-92e7497b695f"
   },
   "outputs": [
    {
     "data": {
      "text/plain": [
       "\n",
       "Call:\n",
       "lm(formula = log(NA_Sales + 1) ~ Ratingn + User_Count + User_Score + \n",
       "    Critic_Count + Critic_Score + FP + Year_of_Release, data = ps3set.train)\n",
       "\n",
       "Residuals:\n",
       "     Min       1Q   Median       3Q      Max \n",
       "-1.02074 -0.12558 -0.03293  0.07747  1.20199 \n",
       "\n",
       "Coefficients:\n",
       "                  Estimate Std. Error t value Pr(>|t|)    \n",
       "(Intercept)      4.452e+01  9.228e+00   4.824 1.86e-06 ***\n",
       "Ratingn         -1.220e-04  9.736e-03  -0.013  0.99000    \n",
       "User_Count       2.201e-04  1.713e-05  12.851  < 2e-16 ***\n",
       "User_Score      -4.063e-02  8.875e-03  -4.578 5.91e-06 ***\n",
       "Critic_Count     2.110e-03  6.491e-04   3.251  0.00122 ** \n",
       "Critic_Score     1.028e-02  9.524e-04  10.796  < 2e-16 ***\n",
       "FPTRUE           4.233e-03  3.650e-02   0.116  0.90772    \n",
       "Year_of_Release -2.228e-02  4.593e-03  -4.851 1.64e-06 ***\n",
       "---\n",
       "Signif. codes:  0 '***' 0.001 '**' 0.01 '*' 0.05 '.' 0.1 ' ' 1\n",
       "\n",
       "Residual standard error: 0.2091 on 510 degrees of freedom\n",
       "Multiple R-squared:  0.5726,\tAdjusted R-squared:  0.5667 \n",
       "F-statistic: 97.61 on 7 and 510 DF,  p-value: < 2.2e-16\n"
      ]
     },
     "metadata": {},
     "output_type": "display_data"
    }
   ],
   "source": [
    "ps3.lm <- lm(formula= log(NA_Sales+1) ~ Ratingn + User_Count +\n",
    "            User_Score + Critic_Count + Critic_Score + FP +\n",
    "            Year_of_Release, data=ps3set.train)\n",
    "summary(ps3.lm)"
   ]
  },
  {
   "cell_type": "code",
   "execution_count": 37,
   "metadata": {
    "_cell_guid": "03a41a15-8183-d5b0-1ffa-6fedc18d262b"
   },
   "outputs": [
    {
     "data": {
      "text/plain": [
       "\n",
       "Call:\n",
       "lm(formula = log(NA_Sales + 1) ~ User_Count + User_Score + Critic_Count + \n",
       "    Critic_Score + Year_of_Release, data = ps3set.train)\n",
       "\n",
       "Residuals:\n",
       "     Min       1Q   Median       3Q      Max \n",
       "-1.01944 -0.12512 -0.03279  0.07857  1.20086 \n",
       "\n",
       "Coefficients:\n",
       "                  Estimate Std. Error t value Pr(>|t|)    \n",
       "(Intercept)      4.456e+01  9.104e+00   4.894 1.33e-06 ***\n",
       "User_Count       2.203e-04  1.662e-05  13.253  < 2e-16 ***\n",
       "User_Score      -4.060e-02  8.634e-03  -4.703 3.31e-06 ***\n",
       "Critic_Count     2.132e-03  5.804e-04   3.673 0.000265 ***\n",
       "Critic_Score     1.028e-02  8.830e-04  11.644  < 2e-16 ***\n",
       "Year_of_Release -2.230e-02  4.529e-03  -4.924 1.14e-06 ***\n",
       "---\n",
       "Signif. codes:  0 '***' 0.001 '**' 0.01 '*' 0.05 '.' 0.1 ' ' 1\n",
       "\n",
       "Residual standard error: 0.2087 on 512 degrees of freedom\n",
       "Multiple R-squared:  0.5726,\tAdjusted R-squared:  0.5684 \n",
       "F-statistic: 137.2 on 5 and 512 DF,  p-value: < 2.2e-16\n"
      ]
     },
     "metadata": {},
     "output_type": "display_data"
    }
   ],
   "source": [
    "ps3.lm <- lm(formula= log(NA_Sales+1) ~ User_Count +\n",
    "            User_Score + Critic_Count + Critic_Score +\n",
    "            Year_of_Release, data=ps3set.train)\n",
    "summary(ps3.lm)"
   ]
  },
  {
   "cell_type": "code",
   "execution_count": 39,
   "metadata": {
    "_cell_guid": "c0c187c5-21c4-81d3-685c-974a68de4584"
   },
   "outputs": [
    {
     "data": {
      "text/plain": [
       "\n",
       "Call:\n",
       "lm(formula = log(NA_Sales + 1) ~ Ratingn + User_Count + User_Score + \n",
       "    Critic_Count + Critic_Score + FP + Year_of_Release, data = wiiset.train)\n",
       "\n",
       "Residuals:\n",
       "     Min       1Q   Median       3Q      Max \n",
       "-0.79839 -0.18311 -0.05302  0.08383  2.75232 \n",
       "\n",
       "Coefficients:\n",
       "                  Estimate Std. Error t value Pr(>|t|)    \n",
       "(Intercept)      4.977e+01  2.978e+01   1.671 0.095611 .  \n",
       "Ratingn         -8.113e-02  2.179e-02  -3.723 0.000232 ***\n",
       "User_Count       5.433e-04  1.043e-04   5.210 3.35e-07 ***\n",
       "User_Score      -7.902e-03  1.738e-02  -0.455 0.649730    \n",
       "Critic_Count     2.487e-05  1.597e-03   0.016 0.987589    \n",
       "Critic_Score     5.555e-03  2.024e-03   2.745 0.006389 ** \n",
       "FPTRUE           3.438e-01  7.566e-02   4.544 7.77e-06 ***\n",
       "Year_of_Release -2.467e-02  1.484e-02  -1.663 0.097360 .  \n",
       "---\n",
       "Signif. codes:  0 '***' 0.001 '**' 0.01 '*' 0.05 '.' 0.1 ' ' 1\n",
       "\n",
       "Residual standard error: 0.3637 on 327 degrees of freedom\n",
       "Multiple R-squared:  0.3442,\tAdjusted R-squared:  0.3301 \n",
       "F-statistic: 24.52 on 7 and 327 DF,  p-value: < 2.2e-16\n"
      ]
     },
     "metadata": {},
     "output_type": "display_data"
    }
   ],
   "source": [
    "wii.lm <- lm(formula= log(NA_Sales+1) ~ Ratingn + User_Count +\n",
    "            User_Score + Critic_Count + Critic_Score + FP +\n",
    "            Year_of_Release, data=wiiset.train)\n",
    "summary(wii.lm)"
   ]
  },
  {
   "cell_type": "code",
   "execution_count": 40,
   "metadata": {
    "_cell_guid": "b28b083c-0c22-c690-c155-87db58b5a9ce"
   },
   "outputs": [
    {
     "data": {
      "text/plain": [
       "\n",
       "Call:\n",
       "lm(formula = log(NA_Sales + 1) ~ Ratingn + User_Count + FP + \n",
       "    Year_of_Release + Critic_Score, data = wiiset.train)\n",
       "\n",
       "Residuals:\n",
       "     Min       1Q   Median       3Q      Max \n",
       "-0.79976 -0.19225 -0.05510  0.08621  2.75193 \n",
       "\n",
       "Coefficients:\n",
       "                  Estimate Std. Error t value Pr(>|t|)    \n",
       "(Intercept)      4.858e+01  2.905e+01   1.672 0.095433 .  \n",
       "Ratingn         -8.212e-02  2.149e-02  -3.821 0.000159 ***\n",
       "User_Count       5.481e-04  9.796e-05   5.595 4.64e-08 ***\n",
       "FPTRUE           3.422e-01  6.955e-02   4.920 1.37e-06 ***\n",
       "Year_of_Release -2.409e-02  1.448e-02  -1.664 0.097120 .  \n",
       "Critic_Score     4.971e-03  1.474e-03   3.372 0.000835 ***\n",
       "---\n",
       "Signif. codes:  0 '***' 0.001 '**' 0.01 '*' 0.05 '.' 0.1 ' ' 1\n",
       "\n",
       "Residual standard error: 0.3627 on 329 degrees of freedom\n",
       "Multiple R-squared:  0.3438,\tAdjusted R-squared:  0.3338 \n",
       "F-statistic: 34.47 on 5 and 329 DF,  p-value: < 2.2e-16\n"
      ]
     },
     "metadata": {},
     "output_type": "display_data"
    }
   ],
   "source": [
    "wii.lm <- lm(formula= log(NA_Sales+1) ~ Ratingn + User_Count + FP + Year_of_Release +\n",
    "             Critic_Score, data=wiiset.train)\n",
    "summary(wii.lm)"
   ]
  },
  {
   "cell_type": "code",
   "execution_count": 41,
   "metadata": {
    "_cell_guid": "47e567b8-7d87-c2df-80e8-074442047796"
   },
   "outputs": [
    {
     "data": {
      "text/plain": [
       "\n",
       "Call:\n",
       "lm(formula = log(NA_Sales + 1) ~ Ratingn + User_Count + FP + \n",
       "    User_Score + Critic_Count + Critic_Score + Year_of_Release, \n",
       "    data = x360set.train)\n",
       "\n",
       "Residuals:\n",
       "     Min       1Q   Median       3Q      Max \n",
       "-1.37450 -0.15670 -0.03734  0.08730  2.19851 \n",
       "\n",
       "Coefficients:\n",
       "                  Estimate Std. Error t value Pr(>|t|)    \n",
       "(Intercept)     -1.246e+01  1.115e+01  -1.117  0.26434    \n",
       "Ratingn         -3.986e-02  1.244e-02  -3.204  0.00143 ** \n",
       "User_Count       3.557e-04  2.347e-05  15.151  < 2e-16 ***\n",
       "FPTRUE           2.125e-01  5.009e-02   4.242 2.57e-05 ***\n",
       "User_Score      -1.834e-02  1.099e-02  -1.669  0.09570 .  \n",
       "Critic_Count     4.045e-03  7.610e-04   5.315 1.52e-07 ***\n",
       "Critic_Score     6.403e-03  1.239e-03   5.167 3.26e-07 ***\n",
       "Year_of_Release  6.171e-03  5.551e-03   1.112  0.26679    \n",
       "---\n",
       "Signif. codes:  0 '***' 0.001 '**' 0.01 '*' 0.05 '.' 0.1 ' ' 1\n",
       "\n",
       "Residual standard error: 0.2769 on 587 degrees of freedom\n",
       "Multiple R-squared:  0.5517,\tAdjusted R-squared:  0.5463 \n",
       "F-statistic: 103.2 on 7 and 587 DF,  p-value: < 2.2e-16\n"
      ]
     },
     "metadata": {},
     "output_type": "display_data"
    }
   ],
   "source": [
    "x360.lm <- lm(formula= log(NA_Sales+1) ~ Ratingn + User_Count + FP +\n",
    "            User_Score + Critic_Count + Critic_Score +\n",
    "            Year_of_Release, data=x360set.train)\n",
    "summary(x360.lm)"
   ]
  },
  {
   "cell_type": "code",
   "execution_count": 42,
   "metadata": {
    "_cell_guid": "fbc37dbc-50b7-333e-1844-28efc14e2756"
   },
   "outputs": [
    {
     "data": {
      "text/plain": [
       "\n",
       "Call:\n",
       "lm(formula = log(NA_Sales + 1) ~ Ratingn + User_Count + FP + \n",
       "    User_Score + Critic_Count + Critic_Score, data = x360set.train)\n",
       "\n",
       "Residuals:\n",
       "     Min       1Q   Median       3Q      Max \n",
       "-1.39132 -0.15729 -0.03810  0.07994  2.21135 \n",
       "\n",
       "Coefficients:\n",
       "               Estimate Std. Error t value Pr(>|t|)    \n",
       "(Intercept)  -6.422e-02  7.727e-02  -0.831  0.40625    \n",
       "Ratingn      -3.670e-02  1.212e-02  -3.029  0.00256 ** \n",
       "User_Count    3.575e-04  2.342e-05  15.268  < 2e-16 ***\n",
       "FPTRUE        2.103e-01  5.006e-02   4.200 3.08e-05 ***\n",
       "User_Score   -2.088e-02  1.076e-02  -1.942  0.05263 .  \n",
       "Critic_Count  3.813e-03  7.320e-04   5.209 2.64e-07 ***\n",
       "Critic_Score  6.733e-03  1.203e-03   5.595 3.39e-08 ***\n",
       "---\n",
       "Signif. codes:  0 '***' 0.001 '**' 0.01 '*' 0.05 '.' 0.1 ' ' 1\n",
       "\n",
       "Residual standard error: 0.277 on 588 degrees of freedom\n",
       "Multiple R-squared:  0.5507,\tAdjusted R-squared:  0.5461 \n",
       "F-statistic: 120.1 on 6 and 588 DF,  p-value: < 2.2e-16\n"
      ]
     },
     "metadata": {},
     "output_type": "display_data"
    }
   ],
   "source": [
    "x360.lm <- lm(formula= log(NA_Sales+1) ~ Ratingn + User_Count + FP +\n",
    "            User_Score + Critic_Count + Critic_Score, data=x360set.train)\n",
    "summary(x360.lm)"
   ]
  },
  {
   "cell_type": "markdown",
   "metadata": {
    "_cell_guid": "795f58de-753f-d02e-0167-136f67295ac2"
   },
   "source": [
    "Building Importance tables for linear models"
   ]
  },
  {
   "cell_type": "code",
   "execution_count": 43,
   "metadata": {
    "_cell_guid": "b31549a1-82aa-71bf-5b3e-f8f3a6f727a7",
    "collapsed": true
   },
   "outputs": [],
   "source": [
    "ps3.lmimp <- varImp(ps3.lm)\n",
    "wii.lmimp <- varImp(wii.lm)\n",
    "x360.lmimp <- varImp(x360.lm)\n",
    "ps3.lmimp <- ps3.lmimp[order(-ps3.lmimp$Overall),, drop=FALSE]\n",
    "wii.lmimp <- wii.lmimp[order(-wii.lmimp$Overall),, drop=FALSE]\n",
    "x360.lmimp <- x360.lmimp[order(-x360.lmimp$Overall),, drop=FALSE]"
   ]
  },
  {
   "cell_type": "markdown",
   "metadata": {
    "_cell_guid": "0094c813-b0ca-81f2-1a32-bd8e3b905c9e"
   },
   "source": [
    "Predicting Values"
   ]
  },
  {
   "cell_type": "code",
   "execution_count": 44,
   "metadata": {
    "_cell_guid": "b2950dd0-d461-830b-1954-a1c3da61da1e",
    "collapsed": true
   },
   "outputs": [],
   "source": [
    "ps3set.test.predlm <- exp(predict(ps3.lm,ps3set.test))-1\n",
    "wiiset.test.predlm <- exp(predict(wii.lm,wiiset.test))-1\n",
    "x360set.test.predlm <- exp(predict(x360.lm,x360set.test))-1"
   ]
  },
  {
   "cell_type": "markdown",
   "metadata": {
    "_cell_guid": "275b8011-6534-6f56-a977-7776370d8b73"
   },
   "source": [
    "Building Random Forests\n",
    "------------------------"
   ]
  },
  {
   "cell_type": "code",
   "execution_count": 45,
   "metadata": {
    "_cell_guid": "b9294461-90df-1908-427b-2a97cd752ac2"
   },
   "outputs": [
    {
     "data": {
      "text/html": [
       "35"
      ],
      "text/latex": [
       "35"
      ],
      "text/markdown": [
       "35"
      ],
      "text/plain": [
       "[1] 35"
      ]
     },
     "metadata": {},
     "output_type": "display_data"
    }
   ],
   "source": [
    "ps3.rf <- randomForest(NA_Sales ~ Rating + User_Count + FP +\n",
    "            User_Score + Critic_Count + Critic_Score + Genre +\n",
    "            Year_of_Release, data = ps3set.train, importance = TRUE)\n",
    "which.min(ps3.rf$mse)"
   ]
  },
  {
   "cell_type": "code",
   "execution_count": 46,
   "metadata": {
    "_cell_guid": "44a10f2f-18a7-bc12-5b18-9b3a81a58620"
   },
   "outputs": [
    {
     "data": {
      "text/html": [
       "108"
      ],
      "text/latex": [
       "108"
      ],
      "text/markdown": [
       "108"
      ],
      "text/plain": [
       "[1] 108"
      ]
     },
     "metadata": {},
     "output_type": "display_data"
    }
   ],
   "source": [
    "wii.rf <- randomForest(NA_Sales ~ Rating + User_Count + FP +\n",
    "            User_Score + Critic_Count + Critic_Score + Genre +\n",
    "            Year_of_Release, data = wiiset.train, importance = TRUE)\n",
    "which.min(wii.rf$mse)"
   ]
  },
  {
   "cell_type": "code",
   "execution_count": 47,
   "metadata": {
    "_cell_guid": "a8028cf1-32d8-b42b-bb48-be011dd72022"
   },
   "outputs": [
    {
     "data": {
      "text/html": [
       "277"
      ],
      "text/latex": [
       "277"
      ],
      "text/markdown": [
       "277"
      ],
      "text/plain": [
       "[1] 277"
      ]
     },
     "metadata": {},
     "output_type": "display_data"
    }
   ],
   "source": [
    "x360.rf <- randomForest(NA_Sales ~ Rating + User_Count + FP +\n",
    "            User_Score + Critic_Count + Critic_Score + Genre +\n",
    "            Year_of_Release, data = x360set.train, importance = TRUE)\n",
    "which.min(x360.rf$mse)"
   ]
  },
  {
   "cell_type": "markdown",
   "metadata": {
    "_cell_guid": "e32d2b7b-3727-dc40-be9e-43910b00f909"
   },
   "source": [
    "Building importance tables for rf-models"
   ]
  },
  {
   "cell_type": "code",
   "execution_count": 48,
   "metadata": {
    "_cell_guid": "4c944f51-9c04-ec4b-02e4-b7e6e6a0852d",
    "collapsed": true
   },
   "outputs": [],
   "source": [
    "ps3.rfimp <- as.data.frame(sort(importance(ps3.rf)[,1],decreasing = TRUE),optional = T)\n",
    "names(ps3.rfimp) <- \"PS3 % Inc MSE\"\n",
    "wii.rfimp <- as.data.frame(sort(importance(wii.rf)[,1],decreasing = TRUE),optional = T)\n",
    "names(wii.rfimp) <- \"Wii % Inc MSE\"\n",
    "x360.rfimp <- as.data.frame(sort(importance(x360.rf)[,1],decreasing = TRUE),optional = T)\n",
    "names(x360.rfimp) <- \"X360 % Inc MSE\""
   ]
  },
  {
   "cell_type": "markdown",
   "metadata": {
    "_cell_guid": "95c48f67-7acb-f949-ebcc-b58de4154fe8"
   },
   "source": [
    "Predicting values"
   ]
  },
  {
   "cell_type": "code",
   "execution_count": 49,
   "metadata": {
    "_cell_guid": "43906974-6269-9906-ae50-b6d94dfc57ef",
    "collapsed": true
   },
   "outputs": [],
   "source": [
    "ps3set.test.predrf <- predict(ps3.rf,ps3set.test)\n",
    "wiiset.test.predrf <- predict(wii.rf,wiiset.test)\n",
    "x360set.test.predrf <- predict(x360.rf,x360set.test)"
   ]
  },
  {
   "cell_type": "markdown",
   "metadata": {
    "_cell_guid": "7f8f0f20-49bb-2a87-7d19-0f69d6f74bd4"
   },
   "source": [
    "Plotting Accuracy\n",
    "-----------------"
   ]
  },
  {
   "cell_type": "code",
   "execution_count": 50,
   "metadata": {
    "_cell_guid": "8d2dfd41-6e35-6d39-29b0-6209bfb4deec",
    "collapsed": true
   },
   "outputs": [],
   "source": [
    "ps3set.allpred <- data.frame(actual = ps3set.test$NA_Sales,\n",
    "                              linear.regression = ps3set.test.predlm,\n",
    "                              random.forest = ps3set.test.predrf)\n",
    "ps3set.allpred <- gather(ps3set.allpred,key = model,value = predictions,2:3)\n",
    "\n",
    "wiiset.allpred <- data.frame(actual = wiiset.test$NA_Sales,\n",
    "                              linear.regression = wiiset.test.predlm,\n",
    "                              random.forest = wiiset.test.predrf)\n",
    "wiiset.allpred <- gather(wiiset.allpred,key = model,value = predictions,2:3)\n",
    "\n",
    "x360set.allpred <- data.frame(actual = x360set.test$NA_Sales,\n",
    "                              linear.regression = x360set.test.predlm,\n",
    "                              random.forest = x360set.test.predrf)\n",
    "x360set.allpred <- gather(x360set.allpred,key = model,value = predictions,2:3)"
   ]
  },
  {
   "cell_type": "code",
   "execution_count": 51,
   "metadata": {
    "_cell_guid": "23fb9ee4-15fa-b015-a1d7-686e6695b486"
   },
   "outputs": [
    {
     "data": {
      "image/png": "[encoded data removed]",
      "text/plain": [
       "plot without title"
      ]
     },
     "metadata": {},
     "output_type": "display_data"
    }
   ],
   "source": [
    "temp1 <- ggplot(data = ps3set.allpred,aes(x = actual, y = predictions)) + \n",
    "  geom_point(colour = \"blue\") + \n",
    "  geom_abline(intercept = 0, slope = 1, colour = \"red\") +\n",
    "  facet_wrap(~ model,ncol = 2) + \n",
    " coord_cartesian(ylim = c(0, 6)) +\n",
    "  ggtitle(\"PS3 Predicted and actual Data by model\")\n",
    "\n",
    "temp2 <- ggplot(data = wiiset.allpred,aes(x = actual, y = predictions)) + \n",
    "  geom_point(colour = \"blue\") + \n",
    "  geom_abline(intercept = 0, slope = 1, colour = \"red\") +\n",
    "  facet_wrap(~ model,ncol = 2) + \n",
    " coord_cartesian(ylim = c(0, 12)) +\n",
    "  ggtitle(\"Wii Predicted and actual Data by model\")\n",
    "\n",
    "temp3 <- ggplot(data = x360set.allpred,aes(x = actual, y = predictions)) + \n",
    "  geom_point(colour = \"blue\") + \n",
    "  geom_abline(intercept = 0, slope = 1, colour = \"red\") +\n",
    "  facet_wrap(~ model,ncol = 2) + \n",
    " coord_cartesian(ylim = c(0,7)) +\n",
    "  ggtitle(\"X360 Predicted and actual Data by model\")\n",
    "grid.arrange(temp1, temp2, temp3, ncol=1)"
   ]
  },
  {
   "cell_type": "markdown",
   "metadata": {
    "_cell_guid": "275fb29e-4188-d9e2-de77-8f72805832c3"
   },
   "source": [
    "Variable Importance\n",
    "-------------------"
   ]
  },
  {
   "cell_type": "markdown",
   "metadata": {
    "_cell_guid": "4b1521ad-50c5-7ff0-ef16-d09901c848bf"
   },
   "source": [
    "Let's now have a look at the mse-importance of the rf-models"
   ]
  },
  {
   "cell_type": "code",
   "execution_count": 52,
   "metadata": {
    "_cell_guid": "7fdd2c9d-b800-0b1c-e386-f5b633c15421"
   },
   "outputs": [
    {
     "data": {
      "image/png": "[encoded data removed]",
      "text/plain": [
       "plot without title"
      ]
     },
     "metadata": {},
     "output_type": "display_data"
    }
   ],
   "source": [
    "grid.arrange(tableGrob(ps3.rfimp),tableGrob(ps3.lmimp), \n",
    "             tableGrob(wii.rfimp), tableGrob(wii.lmimp), \n",
    "             tableGrob(x360.rfimp), tableGrob(x360.lmimp),\n",
    "             top = \"Variable Importance: Left Random Forests / Right Linear Models\",\n",
    "             ncol=2)"
   ]
  },
  {
   "cell_type": "markdown",
   "metadata": {
    "_cell_guid": "151b0fd6-c71e-61df-2341-fc25a8ef127b"
   },
   "source": [
    "The relation between User_Count and NA_Sales is obvious.  Interestingly PS3 Games seems to benfit from Critic_score the most. Also Rating seems to have barely any effect on Sales with PS3 Games, whereas Wii  and X360 Games Sales suffer from Rating. Actually the Ps3 resembles my intuition about what should be the case the most.  \n",
    "  \n",
    "The Wii NA_Sales appear to be more randomly regarding these predictors. The lm model for the wii explains only ~35% of the variance contrasting ~55% for PS3 and X360."
   ]
  }
 ],
 "metadata": {
  "_change_revision": 1354,
  "_is_fork": false,
  "kernelspec": {
   "display_name": "R",
   "language": "R",
   "name": "ir"
  },
  "language_info": {
   "codemirror_mode": "r",
   "file_extension": ".r",
   "mimetype": "text/x-r-source",
   "name": "R",
   "pygments_lexer": "r",
   "version": "3.3.2"
  }
 },
 "nbformat": 4,
 "nbformat_minor": 1
}
